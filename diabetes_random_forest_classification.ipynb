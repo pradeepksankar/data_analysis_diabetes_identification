{
 "cells": [
  {
   "cell_type": "markdown",
   "metadata": {},
   "source": [
    "# Import libraries"
   ]
  },
  {
   "cell_type": "code",
   "execution_count": 1,
   "metadata": {},
   "outputs": [],
   "source": [
    "import numpy as np\n",
    "import matplotlib.pyplot as plt\n",
    "import pandas as pd"
   ]
  },
  {
   "cell_type": "markdown",
   "metadata": {},
   "source": [
    "# Import dataset"
   ]
  },
  {
   "cell_type": "code",
   "execution_count": 2,
   "metadata": {},
   "outputs": [],
   "source": [
    "dataset = pd.read_csv('diabetes_012_health_indicators_BRFSS2015.csv')"
   ]
  },
  {
   "cell_type": "markdown",
   "metadata": {},
   "source": [
    "# Data preprocessing"
   ]
  },
  {
   "cell_type": "code",
   "execution_count": 3,
   "metadata": {},
   "outputs": [
    {
     "name": "stdout",
     "output_type": "stream",
     "text": [
      "<class 'pandas.core.frame.DataFrame'>\n",
      "RangeIndex: 253680 entries, 0 to 253679\n",
      "Data columns (total 22 columns):\n",
      " #   Column                Non-Null Count   Dtype  \n",
      "---  ------                --------------   -----  \n",
      " 0   Diabetes_012          253680 non-null  float64\n",
      " 1   HighBP                253680 non-null  float64\n",
      " 2   HighChol              253680 non-null  float64\n",
      " 3   CholCheck             253680 non-null  float64\n",
      " 4   BMI                   253680 non-null  float64\n",
      " 5   Smoker                253680 non-null  float64\n",
      " 6   Stroke                253680 non-null  float64\n",
      " 7   HeartDiseaseorAttack  253680 non-null  float64\n",
      " 8   PhysActivity          253680 non-null  float64\n",
      " 9   Fruits                253680 non-null  float64\n",
      " 10  Veggies               253680 non-null  float64\n",
      " 11  HvyAlcoholConsump     253680 non-null  float64\n",
      " 12  AnyHealthcare         253680 non-null  float64\n",
      " 13  NoDocbcCost           253680 non-null  float64\n",
      " 14  GenHlth               253680 non-null  float64\n",
      " 15  MentHlth              253680 non-null  float64\n",
      " 16  PhysHlth              253680 non-null  float64\n",
      " 17  DiffWalk              253680 non-null  float64\n",
      " 18  Sex                   253680 non-null  float64\n",
      " 19  Age                   253680 non-null  float64\n",
      " 20  Education             253680 non-null  float64\n",
      " 21  Income                253680 non-null  float64\n",
      "dtypes: float64(22)\n",
      "memory usage: 42.6 MB\n"
     ]
    }
   ],
   "source": [
    "dataset.info()"
   ]
  },
  {
   "cell_type": "code",
   "execution_count": 4,
   "metadata": {},
   "outputs": [
    {
     "name": "stdout",
     "output_type": "stream",
     "text": [
      "Number of persons analysed : 253680\n",
      "Number of factors : 22\n"
     ]
    }
   ],
   "source": [
    "print('Number of persons analysed :', dataset.shape[0])\n",
    "print('Number of factors :', dataset.shape[1])"
   ]
  },
  {
   "cell_type": "markdown",
   "metadata": {},
   "source": [
    "## Check data imbalance"
   ]
  },
  {
   "cell_type": "code",
   "execution_count": 5,
   "metadata": {},
   "outputs": [
    {
     "name": "stdout",
     "output_type": "stream",
     "text": [
      "Number of unique values present to identify diabetes\n",
      "Diabetes_012\n",
      "0.0    213703\n",
      "2.0     35346\n",
      "1.0      4631\n",
      "Name: count, dtype: int64\n"
     ]
    }
   ],
   "source": [
    "print('Number of unique values present to identify diabetes')\n",
    "print(dataset['Diabetes_012'].value_counts())"
   ]
  },
  {
   "cell_type": "markdown",
   "metadata": {},
   "source": [
    "## Downsampling"
   ]
  },
  {
   "cell_type": "code",
   "execution_count": 6,
   "metadata": {},
   "outputs": [],
   "source": [
    "downsampled_data = dataset.groupby('Diabetes_012').apply(lambda x: x.sample(4631))"
   ]
  },
  {
   "cell_type": "code",
   "execution_count": 7,
   "metadata": {},
   "outputs": [
    {
     "name": "stdout",
     "output_type": "stream",
     "text": [
      "                     Diabetes_012  HighBP  HighChol  CholCheck   BMI  Smoker  \\\n",
      "Diabetes_012                                                                   \n",
      "0.0          240486           0.0     0.0       0.0        1.0  21.0     0.0   \n",
      "             59729            0.0     1.0       1.0        1.0  30.0     0.0   \n",
      "             97827            0.0     1.0       0.0        1.0  31.0     0.0   \n",
      "             173968           0.0     1.0       0.0        1.0  37.0     0.0   \n",
      "             19189            0.0     1.0       1.0        1.0  29.0     1.0   \n",
      "...                           ...     ...       ...        ...   ...     ...   \n",
      "2.0          165501           2.0     1.0       1.0        1.0  32.0     1.0   \n",
      "             28526            2.0     1.0       1.0        1.0  25.0     0.0   \n",
      "             84006            2.0     0.0       1.0        1.0  34.0     1.0   \n",
      "             176434           2.0     0.0       1.0        1.0  27.0     0.0   \n",
      "             69472            2.0     1.0       0.0        1.0  40.0     1.0   \n",
      "\n",
      "                     Stroke  HeartDiseaseorAttack  PhysActivity  Fruits  ...  \\\n",
      "Diabetes_012                                                             ...   \n",
      "0.0          240486     0.0                   0.0           1.0     1.0  ...   \n",
      "             59729      1.0                   1.0           1.0     1.0  ...   \n",
      "             97827      0.0                   1.0           1.0     1.0  ...   \n",
      "             173968     0.0                   0.0           0.0     1.0  ...   \n",
      "             19189      0.0                   0.0           1.0     1.0  ...   \n",
      "...                     ...                   ...           ...     ...  ...   \n",
      "2.0          165501     0.0                   0.0           0.0     0.0  ...   \n",
      "             28526      0.0                   0.0           1.0     0.0  ...   \n",
      "             84006      0.0                   0.0           0.0     0.0  ...   \n",
      "             176434     0.0                   1.0           0.0     1.0  ...   \n",
      "             69472      0.0                   0.0           1.0     1.0  ...   \n",
      "\n",
      "                     AnyHealthcare  NoDocbcCost  GenHlth  MentHlth  PhysHlth  \\\n",
      "Diabetes_012                                                                   \n",
      "0.0          240486            1.0          0.0      1.0       0.0       0.0   \n",
      "             59729             1.0          1.0      3.0       0.0       3.0   \n",
      "             97827             1.0          0.0      3.0       0.0       0.0   \n",
      "             173968            1.0          0.0      4.0       0.0      30.0   \n",
      "             19189             1.0          0.0      2.0       0.0       0.0   \n",
      "...                            ...          ...      ...       ...       ...   \n",
      "2.0          165501            1.0          0.0      4.0       0.0       0.0   \n",
      "             28526             1.0          0.0      5.0       0.0      30.0   \n",
      "             84006             1.0          0.0      2.0       0.0       0.0   \n",
      "             176434            1.0          0.0      2.0       0.0       0.0   \n",
      "             69472             1.0          0.0      3.0       0.0       5.0   \n",
      "\n",
      "                     DiffWalk  Sex   Age  Education  Income  \n",
      "Diabetes_012                                                 \n",
      "0.0          240486       0.0  0.0  12.0        6.0     8.0  \n",
      "             59729        0.0  0.0  11.0        4.0     6.0  \n",
      "             97827        0.0  1.0  12.0        6.0     8.0  \n",
      "             173968       1.0  0.0  11.0        3.0     2.0  \n",
      "             19189        0.0  1.0   8.0        6.0     8.0  \n",
      "...                       ...  ...   ...        ...     ...  \n",
      "2.0          165501       1.0  0.0   9.0        4.0     4.0  \n",
      "             28526        1.0  1.0   7.0        6.0     4.0  \n",
      "             84006        1.0  0.0  11.0        4.0     6.0  \n",
      "             176434       0.0  0.0   9.0        5.0     6.0  \n",
      "             69472        0.0  0.0   5.0        6.0     6.0  \n",
      "\n",
      "[13893 rows x 22 columns]\n"
     ]
    }
   ],
   "source": [
    "print(downsampled_data)"
   ]
  },
  {
   "cell_type": "code",
   "execution_count": 8,
   "metadata": {},
   "outputs": [],
   "source": [
    "downsampled_data = downsampled_data.reset_index(drop=True)"
   ]
  },
  {
   "cell_type": "code",
   "execution_count": 9,
   "metadata": {},
   "outputs": [
    {
     "name": "stdout",
     "output_type": "stream",
     "text": [
      "       Diabetes_012  HighBP  HighChol  CholCheck   BMI  Smoker  Stroke  \\\n",
      "0               0.0     0.0       0.0        1.0  21.0     0.0     0.0   \n",
      "1               0.0     1.0       1.0        1.0  30.0     0.0     1.0   \n",
      "2               0.0     1.0       0.0        1.0  31.0     0.0     0.0   \n",
      "3               0.0     1.0       0.0        1.0  37.0     0.0     0.0   \n",
      "4               0.0     1.0       1.0        1.0  29.0     1.0     0.0   \n",
      "...             ...     ...       ...        ...   ...     ...     ...   \n",
      "13888           2.0     1.0       1.0        1.0  32.0     1.0     0.0   \n",
      "13889           2.0     1.0       1.0        1.0  25.0     0.0     0.0   \n",
      "13890           2.0     0.0       1.0        1.0  34.0     1.0     0.0   \n",
      "13891           2.0     0.0       1.0        1.0  27.0     0.0     0.0   \n",
      "13892           2.0     1.0       0.0        1.0  40.0     1.0     0.0   \n",
      "\n",
      "       HeartDiseaseorAttack  PhysActivity  Fruits  ...  AnyHealthcare  \\\n",
      "0                       0.0           1.0     1.0  ...            1.0   \n",
      "1                       1.0           1.0     1.0  ...            1.0   \n",
      "2                       1.0           1.0     1.0  ...            1.0   \n",
      "3                       0.0           0.0     1.0  ...            1.0   \n",
      "4                       0.0           1.0     1.0  ...            1.0   \n",
      "...                     ...           ...     ...  ...            ...   \n",
      "13888                   0.0           0.0     0.0  ...            1.0   \n",
      "13889                   0.0           1.0     0.0  ...            1.0   \n",
      "13890                   0.0           0.0     0.0  ...            1.0   \n",
      "13891                   1.0           0.0     1.0  ...            1.0   \n",
      "13892                   0.0           1.0     1.0  ...            1.0   \n",
      "\n",
      "       NoDocbcCost  GenHlth  MentHlth  PhysHlth  DiffWalk  Sex   Age  \\\n",
      "0              0.0      1.0       0.0       0.0       0.0  0.0  12.0   \n",
      "1              1.0      3.0       0.0       3.0       0.0  0.0  11.0   \n",
      "2              0.0      3.0       0.0       0.0       0.0  1.0  12.0   \n",
      "3              0.0      4.0       0.0      30.0       1.0  0.0  11.0   \n",
      "4              0.0      2.0       0.0       0.0       0.0  1.0   8.0   \n",
      "...            ...      ...       ...       ...       ...  ...   ...   \n",
      "13888          0.0      4.0       0.0       0.0       1.0  0.0   9.0   \n",
      "13889          0.0      5.0       0.0      30.0       1.0  1.0   7.0   \n",
      "13890          0.0      2.0       0.0       0.0       1.0  0.0  11.0   \n",
      "13891          0.0      2.0       0.0       0.0       0.0  0.0   9.0   \n",
      "13892          0.0      3.0       0.0       5.0       0.0  0.0   5.0   \n",
      "\n",
      "       Education  Income  \n",
      "0            6.0     8.0  \n",
      "1            4.0     6.0  \n",
      "2            6.0     8.0  \n",
      "3            3.0     2.0  \n",
      "4            6.0     8.0  \n",
      "...          ...     ...  \n",
      "13888        4.0     4.0  \n",
      "13889        6.0     4.0  \n",
      "13890        4.0     6.0  \n",
      "13891        5.0     6.0  \n",
      "13892        6.0     6.0  \n",
      "\n",
      "[13893 rows x 22 columns]\n"
     ]
    }
   ],
   "source": [
    "print(downsampled_data)"
   ]
  },
  {
   "cell_type": "code",
   "execution_count": 10,
   "metadata": {},
   "outputs": [
    {
     "name": "stdout",
     "output_type": "stream",
     "text": [
      "Diabetes_012\n",
      "0.0    4631\n",
      "1.0    4631\n",
      "2.0    4631\n",
      "Name: count, dtype: int64\n"
     ]
    }
   ],
   "source": [
    "print(downsampled_data['Diabetes_012'].value_counts())"
   ]
  },
  {
   "cell_type": "markdown",
   "metadata": {},
   "source": [
    "# Classification"
   ]
  },
  {
   "cell_type": "markdown",
   "metadata": {},
   "source": [
    "## Data split"
   ]
  },
  {
   "cell_type": "code",
   "execution_count": 11,
   "metadata": {},
   "outputs": [],
   "source": [
    "X = downsampled_data.iloc[:, 1:]\n",
    "y = downsampled_data.iloc[:, 0]"
   ]
  },
  {
   "cell_type": "code",
   "execution_count": 12,
   "metadata": {},
   "outputs": [
    {
     "name": "stdout",
     "output_type": "stream",
     "text": [
      "       HighBP  HighChol  CholCheck   BMI  Smoker  Stroke  \\\n",
      "0         0.0       0.0        1.0  21.0     0.0     0.0   \n",
      "1         1.0       1.0        1.0  30.0     0.0     1.0   \n",
      "2         1.0       0.0        1.0  31.0     0.0     0.0   \n",
      "3         1.0       0.0        1.0  37.0     0.0     0.0   \n",
      "4         1.0       1.0        1.0  29.0     1.0     0.0   \n",
      "...       ...       ...        ...   ...     ...     ...   \n",
      "13888     1.0       1.0        1.0  32.0     1.0     0.0   \n",
      "13889     1.0       1.0        1.0  25.0     0.0     0.0   \n",
      "13890     0.0       1.0        1.0  34.0     1.0     0.0   \n",
      "13891     0.0       1.0        1.0  27.0     0.0     0.0   \n",
      "13892     1.0       0.0        1.0  40.0     1.0     0.0   \n",
      "\n",
      "       HeartDiseaseorAttack  PhysActivity  Fruits  Veggies  ...  \\\n",
      "0                       0.0           1.0     1.0      1.0  ...   \n",
      "1                       1.0           1.0     1.0      1.0  ...   \n",
      "2                       1.0           1.0     1.0      1.0  ...   \n",
      "3                       0.0           0.0     1.0      0.0  ...   \n",
      "4                       0.0           1.0     1.0      1.0  ...   \n",
      "...                     ...           ...     ...      ...  ...   \n",
      "13888                   0.0           0.0     0.0      1.0  ...   \n",
      "13889                   0.0           1.0     0.0      1.0  ...   \n",
      "13890                   0.0           0.0     0.0      1.0  ...   \n",
      "13891                   1.0           0.0     1.0      1.0  ...   \n",
      "13892                   0.0           1.0     1.0      1.0  ...   \n",
      "\n",
      "       AnyHealthcare  NoDocbcCost  GenHlth  MentHlth  PhysHlth  DiffWalk  Sex  \\\n",
      "0                1.0          0.0      1.0       0.0       0.0       0.0  0.0   \n",
      "1                1.0          1.0      3.0       0.0       3.0       0.0  0.0   \n",
      "2                1.0          0.0      3.0       0.0       0.0       0.0  1.0   \n",
      "3                1.0          0.0      4.0       0.0      30.0       1.0  0.0   \n",
      "4                1.0          0.0      2.0       0.0       0.0       0.0  1.0   \n",
      "...              ...          ...      ...       ...       ...       ...  ...   \n",
      "13888            1.0          0.0      4.0       0.0       0.0       1.0  0.0   \n",
      "13889            1.0          0.0      5.0       0.0      30.0       1.0  1.0   \n",
      "13890            1.0          0.0      2.0       0.0       0.0       1.0  0.0   \n",
      "13891            1.0          0.0      2.0       0.0       0.0       0.0  0.0   \n",
      "13892            1.0          0.0      3.0       0.0       5.0       0.0  0.0   \n",
      "\n",
      "        Age  Education  Income  \n",
      "0      12.0        6.0     8.0  \n",
      "1      11.0        4.0     6.0  \n",
      "2      12.0        6.0     8.0  \n",
      "3      11.0        3.0     2.0  \n",
      "4       8.0        6.0     8.0  \n",
      "...     ...        ...     ...  \n",
      "13888   9.0        4.0     4.0  \n",
      "13889   7.0        6.0     4.0  \n",
      "13890  11.0        4.0     6.0  \n",
      "13891   9.0        5.0     6.0  \n",
      "13892   5.0        6.0     6.0  \n",
      "\n",
      "[13893 rows x 21 columns]\n"
     ]
    }
   ],
   "source": [
    "print(X)"
   ]
  },
  {
   "cell_type": "code",
   "execution_count": 13,
   "metadata": {},
   "outputs": [
    {
     "name": "stdout",
     "output_type": "stream",
     "text": [
      "0        0.0\n",
      "1        0.0\n",
      "2        0.0\n",
      "3        0.0\n",
      "4        0.0\n",
      "        ... \n",
      "13888    2.0\n",
      "13889    2.0\n",
      "13890    2.0\n",
      "13891    2.0\n",
      "13892    2.0\n",
      "Name: Diabetes_012, Length: 13893, dtype: float64\n"
     ]
    }
   ],
   "source": [
    "print(y)"
   ]
  },
  {
   "cell_type": "code",
   "execution_count": 14,
   "metadata": {},
   "outputs": [],
   "source": [
    "from sklearn.model_selection import train_test_split\n",
    "X_train, X_test, y_train, y_test = train_test_split(X, y, test_size = 0.2, random_state = 0)"
   ]
  },
  {
   "cell_type": "code",
   "execution_count": 15,
   "metadata": {},
   "outputs": [
    {
     "name": "stdout",
     "output_type": "stream",
     "text": [
      "       HighBP  HighChol  CholCheck   BMI  Smoker  Stroke  \\\n",
      "5753      1.0       1.0        1.0  26.0     0.0     0.0   \n",
      "9135      1.0       1.0        1.0  27.0     0.0     0.0   \n",
      "9381      1.0       1.0        1.0  23.0     1.0     0.0   \n",
      "12965     1.0       0.0        1.0  26.0     1.0     0.0   \n",
      "6681      1.0       1.0        1.0  41.0     0.0     0.0   \n",
      "...       ...       ...        ...   ...     ...     ...   \n",
      "13123     1.0       0.0        1.0  23.0     0.0     0.0   \n",
      "3264      0.0       0.0        1.0  25.0     0.0     0.0   \n",
      "9845      0.0       1.0        1.0  29.0     0.0     0.0   \n",
      "10799     0.0       1.0        1.0  27.0     0.0     0.0   \n",
      "2732      1.0       0.0        1.0  31.0     1.0     0.0   \n",
      "\n",
      "       HeartDiseaseorAttack  PhysActivity  Fruits  Veggies  ...  \\\n",
      "5753                    0.0           1.0     0.0      1.0  ...   \n",
      "9135                    0.0           1.0     1.0      1.0  ...   \n",
      "9381                    1.0           0.0     1.0      1.0  ...   \n",
      "12965                   0.0           1.0     1.0      1.0  ...   \n",
      "6681                    0.0           0.0     0.0      1.0  ...   \n",
      "...                     ...           ...     ...      ...  ...   \n",
      "13123                   0.0           0.0     1.0      1.0  ...   \n",
      "3264                    0.0           1.0     0.0      0.0  ...   \n",
      "9845                    0.0           1.0     1.0      1.0  ...   \n",
      "10799                   0.0           1.0     1.0      0.0  ...   \n",
      "2732                    0.0           0.0     1.0      1.0  ...   \n",
      "\n",
      "       AnyHealthcare  NoDocbcCost  GenHlth  MentHlth  PhysHlth  DiffWalk  Sex  \\\n",
      "5753             1.0          0.0      2.0       0.0       5.0       0.0  0.0   \n",
      "9135             1.0          1.0      4.0      30.0      30.0       1.0  0.0   \n",
      "9381             0.0          1.0      5.0      10.0      20.0       1.0  0.0   \n",
      "12965            1.0          0.0      2.0       0.0       0.0       0.0  0.0   \n",
      "6681             1.0          1.0      4.0      30.0       0.0       0.0  0.0   \n",
      "...              ...          ...      ...       ...       ...       ...  ...   \n",
      "13123            1.0          0.0      4.0       0.0      30.0       0.0  0.0   \n",
      "3264             1.0          0.0      1.0       6.0       0.0       0.0  0.0   \n",
      "9845             1.0          0.0      4.0      30.0       7.0       1.0  0.0   \n",
      "10799            1.0          0.0      3.0       0.0       0.0       0.0  1.0   \n",
      "2732             1.0          0.0      2.0       0.0       0.0       0.0  0.0   \n",
      "\n",
      "        Age  Education  Income  \n",
      "5753   10.0        5.0     8.0  \n",
      "9135   10.0        4.0     3.0  \n",
      "9381    6.0        4.0     3.0  \n",
      "12965   8.0        6.0     8.0  \n",
      "6681    7.0        5.0     4.0  \n",
      "...     ...        ...     ...  \n",
      "13123  10.0        6.0     8.0  \n",
      "3264    2.0        6.0     8.0  \n",
      "9845    6.0        6.0     6.0  \n",
      "10799  13.0        5.0     7.0  \n",
      "2732   11.0        6.0     4.0  \n",
      "\n",
      "[11114 rows x 21 columns]\n"
     ]
    }
   ],
   "source": [
    "print(X_train)"
   ]
  },
  {
   "cell_type": "code",
   "execution_count": 16,
   "metadata": {},
   "outputs": [
    {
     "name": "stdout",
     "output_type": "stream",
     "text": [
      "5753     1.0\n",
      "9135     1.0\n",
      "9381     2.0\n",
      "12965    2.0\n",
      "6681     1.0\n",
      "        ... \n",
      "13123    2.0\n",
      "3264     0.0\n",
      "9845     2.0\n",
      "10799    2.0\n",
      "2732     0.0\n",
      "Name: Diabetes_012, Length: 11114, dtype: float64\n"
     ]
    }
   ],
   "source": [
    "print(y_train)"
   ]
  },
  {
   "cell_type": "code",
   "execution_count": 17,
   "metadata": {},
   "outputs": [
    {
     "name": "stdout",
     "output_type": "stream",
     "text": [
      "      HighBP  HighChol  CholCheck   BMI  Smoker  Stroke  HeartDiseaseorAttack  \\\n",
      "2818     1.0       1.0        1.0  32.0     0.0     1.0                   1.0   \n",
      "9003     0.0       0.0        1.0  34.0     0.0     0.0                   0.0   \n",
      "6481     1.0       1.0        1.0  39.0     1.0     0.0                   0.0   \n",
      "5193     0.0       1.0        1.0  28.0     1.0     0.0                   0.0   \n",
      "7028     0.0       0.0        1.0  24.0     1.0     0.0                   0.0   \n",
      "...      ...       ...        ...   ...     ...     ...                   ...   \n",
      "8133     0.0       1.0        1.0  23.0     1.0     0.0                   0.0   \n",
      "6978     0.0       1.0        1.0  43.0     1.0     0.0                   0.0   \n",
      "8783     1.0       1.0        1.0  32.0     0.0     0.0                   0.0   \n",
      "6789     1.0       1.0        1.0  35.0     1.0     1.0                   1.0   \n",
      "6878     1.0       1.0        1.0  32.0     0.0     0.0                   0.0   \n",
      "\n",
      "      PhysActivity  Fruits  Veggies  ...  AnyHealthcare  NoDocbcCost  GenHlth  \\\n",
      "2818           0.0     1.0      0.0  ...            1.0          0.0      3.0   \n",
      "9003           1.0     1.0      1.0  ...            1.0          0.0      2.0   \n",
      "6481           1.0     0.0      1.0  ...            1.0          0.0      3.0   \n",
      "5193           1.0     1.0      1.0  ...            1.0          0.0      2.0   \n",
      "7028           1.0     1.0      1.0  ...            1.0          0.0      2.0   \n",
      "...            ...     ...      ...  ...            ...          ...      ...   \n",
      "8133           0.0     0.0      0.0  ...            1.0          0.0      4.0   \n",
      "6978           0.0     1.0      1.0  ...            1.0          0.0      3.0   \n",
      "8783           0.0     0.0      0.0  ...            1.0          1.0      5.0   \n",
      "6789           1.0     0.0      1.0  ...            1.0          0.0      5.0   \n",
      "6878           1.0     1.0      1.0  ...            1.0          0.0      1.0   \n",
      "\n",
      "      MentHlth  PhysHlth  DiffWalk  Sex   Age  Education  Income  \n",
      "2818       0.0       0.0       0.0  0.0  11.0        5.0     7.0  \n",
      "9003      20.0      10.0       0.0  0.0   7.0        5.0     7.0  \n",
      "6481       0.0       0.0       0.0  0.0   8.0        5.0     8.0  \n",
      "5193       0.0       5.0       0.0  0.0   9.0        5.0     6.0  \n",
      "7028       0.0       0.0       0.0  1.0  10.0        6.0     6.0  \n",
      "...        ...       ...       ...  ...   ...        ...     ...  \n",
      "8133      30.0      15.0       0.0  1.0   9.0        5.0     4.0  \n",
      "6978       0.0      20.0       1.0  0.0  11.0        5.0     2.0  \n",
      "8783      10.0      15.0       1.0  0.0  10.0        5.0     3.0  \n",
      "6789      15.0      30.0       1.0  1.0  10.0        3.0     5.0  \n",
      "6878       2.0      12.0       0.0  0.0  10.0        5.0     8.0  \n",
      "\n",
      "[2779 rows x 21 columns]\n"
     ]
    }
   ],
   "source": [
    "print(X_test)"
   ]
  },
  {
   "cell_type": "code",
   "execution_count": 18,
   "metadata": {},
   "outputs": [
    {
     "name": "stdout",
     "output_type": "stream",
     "text": [
      "2818    0.0\n",
      "9003    1.0\n",
      "6481    1.0\n",
      "5193    1.0\n",
      "7028    1.0\n",
      "       ... \n",
      "8133    1.0\n",
      "6978    1.0\n",
      "8783    1.0\n",
      "6789    1.0\n",
      "6878    1.0\n",
      "Name: Diabetes_012, Length: 2779, dtype: float64\n"
     ]
    }
   ],
   "source": [
    "print(y_test)"
   ]
  },
  {
   "cell_type": "markdown",
   "metadata": {},
   "source": [
    "# Random forest classification"
   ]
  },
  {
   "cell_type": "code",
   "execution_count": 19,
   "metadata": {},
   "outputs": [
    {
     "data": {
      "text/html": [
       "<style>#sk-container-id-1 {color: black;background-color: white;}#sk-container-id-1 pre{padding: 0;}#sk-container-id-1 div.sk-toggleable {background-color: white;}#sk-container-id-1 label.sk-toggleable__label {cursor: pointer;display: block;width: 100%;margin-bottom: 0;padding: 0.3em;box-sizing: border-box;text-align: center;}#sk-container-id-1 label.sk-toggleable__label-arrow:before {content: \"▸\";float: left;margin-right: 0.25em;color: #696969;}#sk-container-id-1 label.sk-toggleable__label-arrow:hover:before {color: black;}#sk-container-id-1 div.sk-estimator:hover label.sk-toggleable__label-arrow:before {color: black;}#sk-container-id-1 div.sk-toggleable__content {max-height: 0;max-width: 0;overflow: hidden;text-align: left;background-color: #f0f8ff;}#sk-container-id-1 div.sk-toggleable__content pre {margin: 0.2em;color: black;border-radius: 0.25em;background-color: #f0f8ff;}#sk-container-id-1 input.sk-toggleable__control:checked~div.sk-toggleable__content {max-height: 200px;max-width: 100%;overflow: auto;}#sk-container-id-1 input.sk-toggleable__control:checked~label.sk-toggleable__label-arrow:before {content: \"▾\";}#sk-container-id-1 div.sk-estimator input.sk-toggleable__control:checked~label.sk-toggleable__label {background-color: #d4ebff;}#sk-container-id-1 div.sk-label input.sk-toggleable__control:checked~label.sk-toggleable__label {background-color: #d4ebff;}#sk-container-id-1 input.sk-hidden--visually {border: 0;clip: rect(1px 1px 1px 1px);clip: rect(1px, 1px, 1px, 1px);height: 1px;margin: -1px;overflow: hidden;padding: 0;position: absolute;width: 1px;}#sk-container-id-1 div.sk-estimator {font-family: monospace;background-color: #f0f8ff;border: 1px dotted black;border-radius: 0.25em;box-sizing: border-box;margin-bottom: 0.5em;}#sk-container-id-1 div.sk-estimator:hover {background-color: #d4ebff;}#sk-container-id-1 div.sk-parallel-item::after {content: \"\";width: 100%;border-bottom: 1px solid gray;flex-grow: 1;}#sk-container-id-1 div.sk-label:hover label.sk-toggleable__label {background-color: #d4ebff;}#sk-container-id-1 div.sk-serial::before {content: \"\";position: absolute;border-left: 1px solid gray;box-sizing: border-box;top: 0;bottom: 0;left: 50%;z-index: 0;}#sk-container-id-1 div.sk-serial {display: flex;flex-direction: column;align-items: center;background-color: white;padding-right: 0.2em;padding-left: 0.2em;position: relative;}#sk-container-id-1 div.sk-item {position: relative;z-index: 1;}#sk-container-id-1 div.sk-parallel {display: flex;align-items: stretch;justify-content: center;background-color: white;position: relative;}#sk-container-id-1 div.sk-item::before, #sk-container-id-1 div.sk-parallel-item::before {content: \"\";position: absolute;border-left: 1px solid gray;box-sizing: border-box;top: 0;bottom: 0;left: 50%;z-index: -1;}#sk-container-id-1 div.sk-parallel-item {display: flex;flex-direction: column;z-index: 1;position: relative;background-color: white;}#sk-container-id-1 div.sk-parallel-item:first-child::after {align-self: flex-end;width: 50%;}#sk-container-id-1 div.sk-parallel-item:last-child::after {align-self: flex-start;width: 50%;}#sk-container-id-1 div.sk-parallel-item:only-child::after {width: 0;}#sk-container-id-1 div.sk-dashed-wrapped {border: 1px dashed gray;margin: 0 0.4em 0.5em 0.4em;box-sizing: border-box;padding-bottom: 0.4em;background-color: white;}#sk-container-id-1 div.sk-label label {font-family: monospace;font-weight: bold;display: inline-block;line-height: 1.2em;}#sk-container-id-1 div.sk-label-container {text-align: center;}#sk-container-id-1 div.sk-container {/* jupyter's `normalize.less` sets `[hidden] { display: none; }` but bootstrap.min.css set `[hidden] { display: none !important; }` so we also need the `!important` here to be able to override the default hidden behavior on the sphinx rendered scikit-learn.org. See: https://github.com/scikit-learn/scikit-learn/issues/21755 */display: inline-block !important;position: relative;}#sk-container-id-1 div.sk-text-repr-fallback {display: none;}</style><div id=\"sk-container-id-1\" class=\"sk-top-container\"><div class=\"sk-text-repr-fallback\"><pre>RandomForestClassifier(criterion=&#x27;entropy&#x27;, n_estimators=10, random_state=0)</pre><b>In a Jupyter environment, please rerun this cell to show the HTML representation or trust the notebook. <br />On GitHub, the HTML representation is unable to render, please try loading this page with nbviewer.org.</b></div><div class=\"sk-container\" hidden><div class=\"sk-item\"><div class=\"sk-estimator sk-toggleable\"><input class=\"sk-toggleable__control sk-hidden--visually\" id=\"sk-estimator-id-1\" type=\"checkbox\" checked><label for=\"sk-estimator-id-1\" class=\"sk-toggleable__label sk-toggleable__label-arrow\">RandomForestClassifier</label><div class=\"sk-toggleable__content\"><pre>RandomForestClassifier(criterion=&#x27;entropy&#x27;, n_estimators=10, random_state=0)</pre></div></div></div></div></div>"
      ],
      "text/plain": [
       "RandomForestClassifier(criterion='entropy', n_estimators=10, random_state=0)"
      ]
     },
     "execution_count": 19,
     "metadata": {},
     "output_type": "execute_result"
    }
   ],
   "source": [
    "from sklearn.ensemble import RandomForestClassifier\n",
    "classifier = RandomForestClassifier(n_estimators = 10, criterion = 'entropy', random_state = 0)\n",
    "classifier.fit(X_train, y_train)"
   ]
  },
  {
   "cell_type": "markdown",
   "metadata": {},
   "source": [
    "# Predict test result"
   ]
  },
  {
   "cell_type": "code",
   "execution_count": 20,
   "metadata": {},
   "outputs": [],
   "source": [
    "y_pred = classifier.predict(X_test)"
   ]
  },
  {
   "cell_type": "markdown",
   "metadata": {},
   "source": [
    "# Confusion matrix"
   ]
  },
  {
   "cell_type": "code",
   "execution_count": 21,
   "metadata": {},
   "outputs": [
    {
     "name": "stdout",
     "output_type": "stream",
     "text": [
      "[[521 211 152]\n",
      " [292 328 305]\n",
      " [179 340 451]]\n"
     ]
    },
    {
     "data": {
      "text/plain": [
       "0.46779417056495143"
      ]
     },
     "execution_count": 21,
     "metadata": {},
     "output_type": "execute_result"
    }
   ],
   "source": [
    "from sklearn.metrics import confusion_matrix, accuracy_score\n",
    "cm = confusion_matrix(y_test, y_pred)\n",
    "print(cm)\n",
    "accuracy_score(y_test, y_pred)"
   ]
  },
  {
   "cell_type": "markdown",
   "metadata": {},
   "source": [
    "# Data visualisation"
   ]
  },
  {
   "cell_type": "code",
   "execution_count": 22,
   "metadata": {},
   "outputs": [
    {
     "data": {
      "text/plain": [
       "Text(0.5, 1.0, 'Confusion Matrix')"
      ]
     },
     "execution_count": 22,
     "metadata": {},
     "output_type": "execute_result"
    },
    {
     "data": {
      "image/png": "[encoded data removed]",
      "text/plain": [
       "<Figure size 432x288 with 1 Axes>"
      ]
     },
     "metadata": {
      "needs_background": "light"
     },
     "output_type": "display_data"
    }
   ],
   "source": [
    "custom_labels = ['No diabetes', 'Prediabetes', 'Diabetes']\n",
    "import seaborn as sns\n",
    "sns.heatmap(cm, annot=True, fmt=\"d\", cmap=\"Blues\", cbar=False, xticklabels=custom_labels, yticklabels=custom_labels)\n",
    "plt.xlabel(\"Predicted\")\n",
    "plt.ylabel(\"True\")\n",
    "plt.title(\"Confusion Matrix\")"
   ]
  },
  {
   "cell_type": "markdown",
   "metadata": {},
   "source": [
    "# Feature ranking"
   ]
  },
  {
   "cell_type": "code",
   "execution_count": 23,
   "metadata": {},
   "outputs": [],
   "source": [
    "feature_importances = classifier.feature_importances_"
   ]
  },
  {
   "cell_type": "code",
   "execution_count": 24,
   "metadata": {},
   "outputs": [
    {
     "name": "stdout",
     "output_type": "stream",
     "text": [
      "[0.034172   0.02931075 0.00619048 0.17055629 0.0388733  0.01066966\n",
      " 0.01805215 0.03002127 0.03638923 0.028059   0.00981886 0.00990156\n",
      " 0.01612025 0.07380401 0.06296823 0.07644386 0.01842685 0.03942801\n",
      " 0.13064972 0.06205067 0.09809384]\n"
     ]
    }
   ],
   "source": [
    "print(feature_importances)"
   ]
  },
  {
   "cell_type": "code",
   "execution_count": 25,
   "metadata": {},
   "outputs": [
    {
     "name": "stdout",
     "output_type": "stream",
     "text": [
      "Feature ranking:\n",
      "1. BMI - Importance: 0.17055628927119823\n",
      "2. Age - Importance: 0.13064972356465893\n",
      "3. Income - Importance: 0.09809384349620079\n",
      "4. PhysHlth - Importance: 0.0764438561291776\n",
      "5. GenHlth - Importance: 0.07380401299032527\n",
      "6. MentHlth - Importance: 0.06296823327202858\n",
      "7. Education - Importance: 0.062050669859107566\n",
      "8. Sex - Importance: 0.03942801441005353\n",
      "9. Smoker - Importance: 0.038873304485184494\n",
      "10. Fruits - Importance: 0.036389234731407566\n",
      "11. HighBP - Importance: 0.034171997356956155\n",
      "12. PhysActivity - Importance: 0.030021265774702405\n",
      "13. HighChol - Importance: 0.02931074506865709\n",
      "14. Veggies - Importance: 0.02805899581906236\n",
      "15. DiffWalk - Importance: 0.018426853144325666\n",
      "16. HeartDiseaseorAttack - Importance: 0.018052154496095374\n",
      "17. NoDocbcCost - Importance: 0.016120249871457333\n",
      "18. Stroke - Importance: 0.010669655750303646\n",
      "19. AnyHealthcare - Importance: 0.009901562731203227\n",
      "20. HvyAlcoholConsump - Importance: 0.009818859482441943\n",
      "21. CholCheck - Importance: 0.006190478295452259\n"
     ]
    }
   ],
   "source": [
    "column_names = np.array(list(X.columns))\n",
    "sorted_indices = np.argsort(feature_importances)[::-1]\n",
    "print(\"Feature ranking:\")\n",
    "for f in range(len(feature_importances)):\n",
    "    print(f\"{f + 1}. {column_names[sorted_indices[f]]} - Importance: {feature_importances[sorted_indices[f]]}\")"
   ]
  },
  {
   "cell_type": "code",
   "execution_count": 26,
   "metadata": {},
   "outputs": [
    {
     "data": {
      "image/png": "[encoded data removed]",
      "text/plain": [
       "<Figure size 720x432 with 1 Axes>"
      ]
     },
     "metadata": {
      "needs_background": "light"
     },
     "output_type": "display_data"
    }
   ],
   "source": [
    "plt.figure(figsize=(10, 6))\n",
    "plt.bar(column_names[sorted_indices], feature_importances[sorted_indices])\n",
    "plt.xticks(rotation=90)\n",
    "plt.xlabel('Feature')\n",
    "plt.ylabel('Importance')\n",
    "plt.title('Feature Importance')\n",
    "plt.show()"
   ]
  }
 ],
 "metadata": {
  "kernelspec": {
   "display_name": "Python 3",
   "language": "python",
   "name": "python3"
  },
  "language_info": {
   "codemirror_mode": {
    "name": "ipython",
    "version": 3
   },
   "file_extension": ".py",
   "mimetype": "text/x-python",
   "name": "python",
   "nbconvert_exporter": "python",
   "pygments_lexer": "ipython3",
   "version": "3.10.11"
  }
 },
 "nbformat": 4,
 "nbformat_minor": 2
}
