{
 "cells": [
  {
   "cell_type": "markdown",
   "metadata": {},
   "source": [
    "# Import libraries"
   ]
  },
  {
   "cell_type": "code",
   "execution_count": 1,
   "metadata": {},
   "outputs": [],
   "source": [
    "import numpy as np\n",
    "import matplotlib.pyplot as plt\n",
    "import pandas as pd"
   ]
  },
  {
   "cell_type": "markdown",
   "metadata": {},
   "source": [
    "# Import dataset"
   ]
  },
  {
   "cell_type": "code",
   "execution_count": 2,
   "metadata": {},
   "outputs": [],
   "source": [
    "dataset = pd.read_csv('diabetes_012_health_indicators_BRFSS2015.csv')"
   ]
  },
  {
   "cell_type": "markdown",
   "metadata": {},
   "source": [
    "# Data preprocessing"
   ]
  },
  {
   "cell_type": "code",
   "execution_count": 3,
   "metadata": {},
   "outputs": [
    {
     "name": "stdout",
     "output_type": "stream",
     "text": [
      "<class 'pandas.core.frame.DataFrame'>\n",
      "RangeIndex: 253680 entries, 0 to 253679\n",
      "Data columns (total 22 columns):\n",
      " #   Column                Non-Null Count   Dtype  \n",
      "---  ------                --------------   -----  \n",
      " 0   Diabetes_012          253680 non-null  float64\n",
      " 1   HighBP                253680 non-null  float64\n",
      " 2   HighChol              253680 non-null  float64\n",
      " 3   CholCheck             253680 non-null  float64\n",
      " 4   BMI                   253680 non-null  float64\n",
      " 5   Smoker                253680 non-null  float64\n",
      " 6   Stroke                253680 non-null  float64\n",
      " 7   HeartDiseaseorAttack  253680 non-null  float64\n",
      " 8   PhysActivity          253680 non-null  float64\n",
      " 9   Fruits                253680 non-null  float64\n",
      " 10  Veggies               253680 non-null  float64\n",
      " 11  HvyAlcoholConsump     253680 non-null  float64\n",
      " 12  AnyHealthcare         253680 non-null  float64\n",
      " 13  NoDocbcCost           253680 non-null  float64\n",
      " 14  GenHlth               253680 non-null  float64\n",
      " 15  MentHlth              253680 non-null  float64\n",
      " 16  PhysHlth              253680 non-null  float64\n",
      " 17  DiffWalk              253680 non-null  float64\n",
      " 18  Sex                   253680 non-null  float64\n",
      " 19  Age                   253680 non-null  float64\n",
      " 20  Education             253680 non-null  float64\n",
      " 21  Income                253680 non-null  float64\n",
      "dtypes: float64(22)\n",
      "memory usage: 42.6 MB\n"
     ]
    }
   ],
   "source": [
    "dataset.info()"
   ]
  },
  {
   "cell_type": "code",
   "execution_count": 4,
   "metadata": {},
   "outputs": [
    {
     "name": "stdout",
     "output_type": "stream",
     "text": [
      "Number of persons analysed : 253680\n",
      "Number of factors : 22\n"
     ]
    }
   ],
   "source": [
    "print('Number of persons analysed :', dataset.shape[0])\n",
    "print('Number of factors :', dataset.shape[1])"
   ]
  },
  {
   "cell_type": "markdown",
   "metadata": {},
   "source": [
    "## Check data imbalance"
   ]
  },
  {
   "cell_type": "code",
   "execution_count": 5,
   "metadata": {},
   "outputs": [
    {
     "name": "stdout",
     "output_type": "stream",
     "text": [
      "Number of unique values present to identify diabetes\n",
      "Diabetes_012\n",
      "0.0    213703\n",
      "2.0     35346\n",
      "1.0      4631\n",
      "Name: count, dtype: int64\n"
     ]
    }
   ],
   "source": [
    "print('Number of unique values present to identify diabetes')\n",
    "print(dataset['Diabetes_012'].value_counts())"
   ]
  },
  {
   "cell_type": "markdown",
   "metadata": {},
   "source": [
    "## Downsampling"
   ]
  },
  {
   "cell_type": "code",
   "execution_count": 6,
   "metadata": {},
   "outputs": [],
   "source": [
    "downsampled_data = dataset.groupby('Diabetes_012').apply(lambda x: x.sample(4631))"
   ]
  },
  {
   "cell_type": "code",
   "execution_count": 7,
   "metadata": {},
   "outputs": [
    {
     "name": "stdout",
     "output_type": "stream",
     "text": [
      "                     Diabetes_012  HighBP  HighChol  CholCheck   BMI  Smoker  \\\n",
      "Diabetes_012                                                                   \n",
      "0.0          51172            0.0     0.0       1.0        1.0  31.0     0.0   \n",
      "             12140            0.0     0.0       0.0        1.0  28.0     0.0   \n",
      "             74892            0.0     0.0       0.0        1.0  35.0     0.0   \n",
      "             248560           0.0     1.0       1.0        1.0  24.0     0.0   \n",
      "             96378            0.0     0.0       1.0        1.0  20.0     1.0   \n",
      "...                           ...     ...       ...        ...   ...     ...   \n",
      "2.0          161450           2.0     1.0       0.0        1.0  37.0     0.0   \n",
      "             154791           2.0     1.0       0.0        1.0  63.0     1.0   \n",
      "             85040            2.0     1.0       1.0        1.0  26.0     0.0   \n",
      "             195151           2.0     1.0       1.0        1.0  35.0     1.0   \n",
      "             73636            2.0     1.0       1.0        1.0  29.0     1.0   \n",
      "\n",
      "                     Stroke  HeartDiseaseorAttack  PhysActivity  Fruits  ...  \\\n",
      "Diabetes_012                                                             ...   \n",
      "0.0          51172      0.0                   0.0           1.0     0.0  ...   \n",
      "             12140      0.0                   0.0           1.0     0.0  ...   \n",
      "             74892      0.0                   0.0           1.0     1.0  ...   \n",
      "             248560     0.0                   0.0           1.0     1.0  ...   \n",
      "             96378      0.0                   0.0           1.0     1.0  ...   \n",
      "...                     ...                   ...           ...     ...  ...   \n",
      "2.0          161450     0.0                   0.0           0.0     0.0  ...   \n",
      "             154791     0.0                   1.0           0.0     0.0  ...   \n",
      "             85040      1.0                   0.0           0.0     1.0  ...   \n",
      "             195151     0.0                   0.0           0.0     0.0  ...   \n",
      "             73636      0.0                   1.0           1.0     1.0  ...   \n",
      "\n",
      "                     AnyHealthcare  NoDocbcCost  GenHlth  MentHlth  PhysHlth  \\\n",
      "Diabetes_012                                                                   \n",
      "0.0          51172             1.0          0.0      3.0       0.0       0.0   \n",
      "             12140             1.0          0.0      3.0      20.0       1.0   \n",
      "             74892             1.0          0.0      3.0       2.0      10.0   \n",
      "             248560            1.0          0.0      2.0       0.0       0.0   \n",
      "             96378             1.0          0.0      2.0       2.0       7.0   \n",
      "...                            ...          ...      ...       ...       ...   \n",
      "2.0          161450            1.0          0.0      3.0       0.0       2.0   \n",
      "             154791            1.0          0.0      5.0      30.0      30.0   \n",
      "             85040             1.0          0.0      4.0       0.0       0.0   \n",
      "             195151            1.0          0.0      5.0      30.0      30.0   \n",
      "             73636             1.0          0.0      5.0       0.0      30.0   \n",
      "\n",
      "                     DiffWalk  Sex   Age  Education  Income  \n",
      "Diabetes_012                                                 \n",
      "0.0          51172        0.0  1.0   5.0        4.0     8.0  \n",
      "             12140        0.0  0.0   2.0        5.0     8.0  \n",
      "             74892        0.0  0.0   3.0        5.0     8.0  \n",
      "             248560       0.0  0.0  10.0        5.0     8.0  \n",
      "             96378        0.0  0.0   4.0        6.0     8.0  \n",
      "...                       ...  ...   ...        ...     ...  \n",
      "2.0          161450       1.0  0.0  11.0        4.0     6.0  \n",
      "             154791       1.0  1.0  10.0        4.0     4.0  \n",
      "             85040        0.0  1.0  10.0        4.0     4.0  \n",
      "             195151       1.0  1.0   9.0        6.0     7.0  \n",
      "             73636        1.0  1.0  12.0        2.0     6.0  \n",
      "\n",
      "[13893 rows x 22 columns]\n"
     ]
    }
   ],
   "source": [
    "print(downsampled_data)"
   ]
  },
  {
   "cell_type": "code",
   "execution_count": 8,
   "metadata": {},
   "outputs": [],
   "source": [
    "downsampled_data = downsampled_data.reset_index(drop=True)"
   ]
  },
  {
   "cell_type": "code",
   "execution_count": 9,
   "metadata": {},
   "outputs": [
    {
     "name": "stdout",
     "output_type": "stream",
     "text": [
      "       Diabetes_012  HighBP  HighChol  CholCheck   BMI  Smoker  Stroke  \\\n",
      "0               0.0     0.0       1.0        1.0  31.0     0.0     0.0   \n",
      "1               0.0     0.0       0.0        1.0  28.0     0.0     0.0   \n",
      "2               0.0     0.0       0.0        1.0  35.0     0.0     0.0   \n",
      "3               0.0     1.0       1.0        1.0  24.0     0.0     0.0   \n",
      "4               0.0     0.0       1.0        1.0  20.0     1.0     0.0   \n",
      "...             ...     ...       ...        ...   ...     ...     ...   \n",
      "13888           2.0     1.0       0.0        1.0  37.0     0.0     0.0   \n",
      "13889           2.0     1.0       0.0        1.0  63.0     1.0     0.0   \n",
      "13890           2.0     1.0       1.0        1.0  26.0     0.0     1.0   \n",
      "13891           2.0     1.0       1.0        1.0  35.0     1.0     0.0   \n",
      "13892           2.0     1.0       1.0        1.0  29.0     1.0     0.0   \n",
      "\n",
      "       HeartDiseaseorAttack  PhysActivity  Fruits  ...  AnyHealthcare  \\\n",
      "0                       0.0           1.0     0.0  ...            1.0   \n",
      "1                       0.0           1.0     0.0  ...            1.0   \n",
      "2                       0.0           1.0     1.0  ...            1.0   \n",
      "3                       0.0           1.0     1.0  ...            1.0   \n",
      "4                       0.0           1.0     1.0  ...            1.0   \n",
      "...                     ...           ...     ...  ...            ...   \n",
      "13888                   0.0           0.0     0.0  ...            1.0   \n",
      "13889                   1.0           0.0     0.0  ...            1.0   \n",
      "13890                   0.0           0.0     1.0  ...            1.0   \n",
      "13891                   0.0           0.0     0.0  ...            1.0   \n",
      "13892                   1.0           1.0     1.0  ...            1.0   \n",
      "\n",
      "       NoDocbcCost  GenHlth  MentHlth  PhysHlth  DiffWalk  Sex   Age  \\\n",
      "0              0.0      3.0       0.0       0.0       0.0  1.0   5.0   \n",
      "1              0.0      3.0      20.0       1.0       0.0  0.0   2.0   \n",
      "2              0.0      3.0       2.0      10.0       0.0  0.0   3.0   \n",
      "3              0.0      2.0       0.0       0.0       0.0  0.0  10.0   \n",
      "4              0.0      2.0       2.0       7.0       0.0  0.0   4.0   \n",
      "...            ...      ...       ...       ...       ...  ...   ...   \n",
      "13888          0.0      3.0       0.0       2.0       1.0  0.0  11.0   \n",
      "13889          0.0      5.0      30.0      30.0       1.0  1.0  10.0   \n",
      "13890          0.0      4.0       0.0       0.0       0.0  1.0  10.0   \n",
      "13891          0.0      5.0      30.0      30.0       1.0  1.0   9.0   \n",
      "13892          0.0      5.0       0.0      30.0       1.0  1.0  12.0   \n",
      "\n",
      "       Education  Income  \n",
      "0            4.0     8.0  \n",
      "1            5.0     8.0  \n",
      "2            5.0     8.0  \n",
      "3            5.0     8.0  \n",
      "4            6.0     8.0  \n",
      "...          ...     ...  \n",
      "13888        4.0     6.0  \n",
      "13889        4.0     4.0  \n",
      "13890        4.0     4.0  \n",
      "13891        6.0     7.0  \n",
      "13892        2.0     6.0  \n",
      "\n",
      "[13893 rows x 22 columns]\n"
     ]
    }
   ],
   "source": [
    "print(downsampled_data)"
   ]
  },
  {
   "cell_type": "code",
   "execution_count": 10,
   "metadata": {},
   "outputs": [
    {
     "name": "stdout",
     "output_type": "stream",
     "text": [
      "Diabetes_012\n",
      "0.0    4631\n",
      "1.0    4631\n",
      "2.0    4631\n",
      "Name: count, dtype: int64\n"
     ]
    }
   ],
   "source": [
    "print(downsampled_data['Diabetes_012'].value_counts())"
   ]
  },
  {
   "cell_type": "markdown",
   "metadata": {},
   "source": [
    "# Classification"
   ]
  },
  {
   "cell_type": "markdown",
   "metadata": {},
   "source": [
    "## Data split"
   ]
  },
  {
   "cell_type": "code",
   "execution_count": 11,
   "metadata": {},
   "outputs": [],
   "source": [
    "X = downsampled_data.iloc[:, 1:]\n",
    "y = downsampled_data.iloc[:, 0]"
   ]
  },
  {
   "cell_type": "code",
   "execution_count": 12,
   "metadata": {},
   "outputs": [
    {
     "name": "stdout",
     "output_type": "stream",
     "text": [
      "       HighBP  HighChol  CholCheck   BMI  Smoker  Stroke  \\\n",
      "0         0.0       1.0        1.0  31.0     0.0     0.0   \n",
      "1         0.0       0.0        1.0  28.0     0.0     0.0   \n",
      "2         0.0       0.0        1.0  35.0     0.0     0.0   \n",
      "3         1.0       1.0        1.0  24.0     0.0     0.0   \n",
      "4         0.0       1.0        1.0  20.0     1.0     0.0   \n",
      "...       ...       ...        ...   ...     ...     ...   \n",
      "13888     1.0       0.0        1.0  37.0     0.0     0.0   \n",
      "13889     1.0       0.0        1.0  63.0     1.0     0.0   \n",
      "13890     1.0       1.0        1.0  26.0     0.0     1.0   \n",
      "13891     1.0       1.0        1.0  35.0     1.0     0.0   \n",
      "13892     1.0       1.0        1.0  29.0     1.0     0.0   \n",
      "\n",
      "       HeartDiseaseorAttack  PhysActivity  Fruits  Veggies  ...  \\\n",
      "0                       0.0           1.0     0.0      0.0  ...   \n",
      "1                       0.0           1.0     0.0      1.0  ...   \n",
      "2                       0.0           1.0     1.0      1.0  ...   \n",
      "3                       0.0           1.0     1.0      1.0  ...   \n",
      "4                       0.0           1.0     1.0      1.0  ...   \n",
      "...                     ...           ...     ...      ...  ...   \n",
      "13888                   0.0           0.0     0.0      0.0  ...   \n",
      "13889                   1.0           0.0     0.0      1.0  ...   \n",
      "13890                   0.0           0.0     1.0      0.0  ...   \n",
      "13891                   0.0           0.0     0.0      0.0  ...   \n",
      "13892                   1.0           1.0     1.0      1.0  ...   \n",
      "\n",
      "       AnyHealthcare  NoDocbcCost  GenHlth  MentHlth  PhysHlth  DiffWalk  Sex  \\\n",
      "0                1.0          0.0      3.0       0.0       0.0       0.0  1.0   \n",
      "1                1.0          0.0      3.0      20.0       1.0       0.0  0.0   \n",
      "2                1.0          0.0      3.0       2.0      10.0       0.0  0.0   \n",
      "3                1.0          0.0      2.0       0.0       0.0       0.0  0.0   \n",
      "4                1.0          0.0      2.0       2.0       7.0       0.0  0.0   \n",
      "...              ...          ...      ...       ...       ...       ...  ...   \n",
      "13888            1.0          0.0      3.0       0.0       2.0       1.0  0.0   \n",
      "13889            1.0          0.0      5.0      30.0      30.0       1.0  1.0   \n",
      "13890            1.0          0.0      4.0       0.0       0.0       0.0  1.0   \n",
      "13891            1.0          0.0      5.0      30.0      30.0       1.0  1.0   \n",
      "13892            1.0          0.0      5.0       0.0      30.0       1.0  1.0   \n",
      "\n",
      "        Age  Education  Income  \n",
      "0       5.0        4.0     8.0  \n",
      "1       2.0        5.0     8.0  \n",
      "2       3.0        5.0     8.0  \n",
      "3      10.0        5.0     8.0  \n",
      "4       4.0        6.0     8.0  \n",
      "...     ...        ...     ...  \n",
      "13888  11.0        4.0     6.0  \n",
      "13889  10.0        4.0     4.0  \n",
      "13890  10.0        4.0     4.0  \n",
      "13891   9.0        6.0     7.0  \n",
      "13892  12.0        2.0     6.0  \n",
      "\n",
      "[13893 rows x 21 columns]\n"
     ]
    }
   ],
   "source": [
    "print(X)"
   ]
  },
  {
   "cell_type": "code",
   "execution_count": 13,
   "metadata": {},
   "outputs": [
    {
     "name": "stdout",
     "output_type": "stream",
     "text": [
      "0        0.0\n",
      "1        0.0\n",
      "2        0.0\n",
      "3        0.0\n",
      "4        0.0\n",
      "        ... \n",
      "13888    2.0\n",
      "13889    2.0\n",
      "13890    2.0\n",
      "13891    2.0\n",
      "13892    2.0\n",
      "Name: Diabetes_012, Length: 13893, dtype: float64\n"
     ]
    }
   ],
   "source": [
    "print(y)"
   ]
  },
  {
   "cell_type": "code",
   "execution_count": 14,
   "metadata": {},
   "outputs": [],
   "source": [
    "from sklearn.model_selection import train_test_split\n",
    "X_train, X_test, y_train, y_test = train_test_split(X, y, test_size = 0.2, random_state = 0)"
   ]
  },
  {
   "cell_type": "code",
   "execution_count": 15,
   "metadata": {},
   "outputs": [
    {
     "name": "stdout",
     "output_type": "stream",
     "text": [
      "       HighBP  HighChol  CholCheck   BMI  Smoker  Stroke  \\\n",
      "5753      0.0       0.0        1.0  35.0     0.0     0.0   \n",
      "9135      1.0       1.0        1.0  39.0     0.0     0.0   \n",
      "9381      1.0       1.0        1.0  28.0     0.0     1.0   \n",
      "12965     1.0       1.0        1.0  35.0     1.0     1.0   \n",
      "6681      0.0       0.0        1.0  23.0     1.0     0.0   \n",
      "...       ...       ...        ...   ...     ...     ...   \n",
      "13123     1.0       1.0        1.0  37.0     1.0     0.0   \n",
      "3264      1.0       0.0        1.0  43.0     1.0     0.0   \n",
      "9845      1.0       1.0        1.0  29.0     0.0     0.0   \n",
      "10799     1.0       1.0        1.0  36.0     0.0     1.0   \n",
      "2732      0.0       0.0        1.0  24.0     0.0     0.0   \n",
      "\n",
      "       HeartDiseaseorAttack  PhysActivity  Fruits  Veggies  ...  \\\n",
      "5753                    0.0           1.0     1.0      1.0  ...   \n",
      "9135                    0.0           1.0     0.0      1.0  ...   \n",
      "9381                    0.0           0.0     1.0      0.0  ...   \n",
      "12965                   0.0           1.0     0.0      1.0  ...   \n",
      "6681                    0.0           1.0     0.0      1.0  ...   \n",
      "...                     ...           ...     ...      ...  ...   \n",
      "13123                   0.0           0.0     0.0      0.0  ...   \n",
      "3264                    0.0           0.0     0.0      1.0  ...   \n",
      "9845                    0.0           1.0     1.0      1.0  ...   \n",
      "10799                   0.0           0.0     1.0      0.0  ...   \n",
      "2732                    0.0           1.0     1.0      1.0  ...   \n",
      "\n",
      "       AnyHealthcare  NoDocbcCost  GenHlth  MentHlth  PhysHlth  DiffWalk  Sex  \\\n",
      "5753             1.0          0.0      3.0      15.0       0.0       0.0  0.0   \n",
      "9135             1.0          1.0      3.0       0.0      30.0       1.0  0.0   \n",
      "9381             1.0          1.0      5.0      30.0      30.0       1.0  0.0   \n",
      "12965            1.0          0.0      3.0       0.0       0.0       0.0  0.0   \n",
      "6681             1.0          0.0      2.0      30.0       1.0       0.0  0.0   \n",
      "...              ...          ...      ...       ...       ...       ...  ...   \n",
      "13123            1.0          0.0      3.0       0.0       0.0       0.0  1.0   \n",
      "3264             1.0          0.0      5.0       0.0      30.0       1.0  1.0   \n",
      "9845             1.0          0.0      3.0       0.0       0.0       0.0  1.0   \n",
      "10799            1.0          0.0      3.0       0.0       0.0       0.0  0.0   \n",
      "2732             1.0          0.0      3.0       0.0       3.0       0.0  0.0   \n",
      "\n",
      "        Age  Education  Income  \n",
      "5753    7.0        6.0     8.0  \n",
      "9135   12.0        4.0     2.0  \n",
      "9381   11.0        6.0     1.0  \n",
      "12965  12.0        5.0     3.0  \n",
      "6681    4.0        6.0     8.0  \n",
      "...     ...        ...     ...  \n",
      "13123   4.0        4.0     6.0  \n",
      "3264   13.0        6.0     8.0  \n",
      "9845   12.0        4.0     3.0  \n",
      "10799  12.0        4.0     3.0  \n",
      "2732    7.0        4.0     7.0  \n",
      "\n",
      "[11114 rows x 21 columns]\n"
     ]
    }
   ],
   "source": [
    "print(X_train)"
   ]
  },
  {
   "cell_type": "code",
   "execution_count": 16,
   "metadata": {},
   "outputs": [
    {
     "name": "stdout",
     "output_type": "stream",
     "text": [
      "5753     1.0\n",
      "9135     1.0\n",
      "9381     2.0\n",
      "12965    2.0\n",
      "6681     1.0\n",
      "        ... \n",
      "13123    2.0\n",
      "3264     0.0\n",
      "9845     2.0\n",
      "10799    2.0\n",
      "2732     0.0\n",
      "Name: Diabetes_012, Length: 11114, dtype: float64\n"
     ]
    }
   ],
   "source": [
    "print(y_train)"
   ]
  },
  {
   "cell_type": "code",
   "execution_count": 17,
   "metadata": {},
   "outputs": [
    {
     "name": "stdout",
     "output_type": "stream",
     "text": [
      "      HighBP  HighChol  CholCheck   BMI  Smoker  Stroke  HeartDiseaseorAttack  \\\n",
      "2818     1.0       1.0        1.0  25.0     0.0     0.0                   1.0   \n",
      "9003     0.0       1.0        1.0  27.0     1.0     0.0                   0.0   \n",
      "6481     0.0       0.0        1.0  27.0     0.0     0.0                   0.0   \n",
      "5193     1.0       1.0        1.0  33.0     0.0     0.0                   0.0   \n",
      "7028     0.0       1.0        1.0  35.0     1.0     0.0                   0.0   \n",
      "...      ...       ...        ...   ...     ...     ...                   ...   \n",
      "8133     0.0       1.0        1.0  32.0     0.0     0.0                   0.0   \n",
      "6978     1.0       1.0        1.0  25.0     0.0     0.0                   1.0   \n",
      "8783     1.0       1.0        1.0  29.0     0.0     0.0                   0.0   \n",
      "6789     0.0       0.0        1.0  28.0     1.0     0.0                   0.0   \n",
      "6878     0.0       1.0        1.0  20.0     0.0     0.0                   1.0   \n",
      "\n",
      "      PhysActivity  Fruits  Veggies  ...  AnyHealthcare  NoDocbcCost  GenHlth  \\\n",
      "2818           1.0     1.0      1.0  ...            1.0          0.0      2.0   \n",
      "9003           1.0     1.0      1.0  ...            1.0          0.0      2.0   \n",
      "6481           0.0     0.0      0.0  ...            1.0          0.0      2.0   \n",
      "5193           1.0     0.0      1.0  ...            0.0          1.0      3.0   \n",
      "7028           0.0     1.0      1.0  ...            1.0          1.0      4.0   \n",
      "...            ...     ...      ...  ...            ...          ...      ...   \n",
      "8133           0.0     1.0      1.0  ...            1.0          0.0      2.0   \n",
      "6978           1.0     1.0      1.0  ...            1.0          0.0      3.0   \n",
      "8783           1.0     1.0      1.0  ...            1.0          0.0      1.0   \n",
      "6789           0.0     0.0      1.0  ...            1.0          1.0      3.0   \n",
      "6878           1.0     1.0      1.0  ...            1.0          0.0      2.0   \n",
      "\n",
      "      MentHlth  PhysHlth  DiffWalk  Sex   Age  Education  Income  \n",
      "2818       3.0       1.0       0.0  1.0   9.0        6.0     6.0  \n",
      "9003       0.0       0.0       0.0  0.0  11.0        5.0     6.0  \n",
      "6481       0.0       0.0       0.0  0.0   8.0        6.0     8.0  \n",
      "5193      15.0       5.0       0.0  0.0   6.0        4.0     1.0  \n",
      "7028      30.0      30.0       1.0  0.0   6.0        4.0     6.0  \n",
      "...        ...       ...       ...  ...   ...        ...     ...  \n",
      "8133       0.0       3.0       0.0  1.0  10.0        6.0     6.0  \n",
      "6978       0.0       0.0       0.0  0.0  13.0        6.0     2.0  \n",
      "8783       0.0       0.0       0.0  0.0  13.0        5.0     4.0  \n",
      "6789       2.0      14.0       0.0  1.0   8.0        4.0     7.0  \n",
      "6878       1.0       1.0       0.0  1.0  11.0        6.0     8.0  \n",
      "\n",
      "[2779 rows x 21 columns]\n"
     ]
    }
   ],
   "source": [
    "print(X_test)"
   ]
  },
  {
   "cell_type": "code",
   "execution_count": 18,
   "metadata": {},
   "outputs": [
    {
     "name": "stdout",
     "output_type": "stream",
     "text": [
      "2818    0.0\n",
      "9003    1.0\n",
      "6481    1.0\n",
      "5193    1.0\n",
      "7028    1.0\n",
      "       ... \n",
      "8133    1.0\n",
      "6978    1.0\n",
      "8783    1.0\n",
      "6789    1.0\n",
      "6878    1.0\n",
      "Name: Diabetes_012, Length: 2779, dtype: float64\n"
     ]
    }
   ],
   "source": [
    "print(y_test)"
   ]
  },
  {
   "cell_type": "markdown",
   "metadata": {},
   "source": [
    "# Naive Bayes classification"
   ]
  },
  {
   "cell_type": "code",
   "execution_count": 19,
   "metadata": {},
   "outputs": [
    {
     "data": {
      "text/html": [
       "<style>#sk-container-id-1 {color: black;background-color: white;}#sk-container-id-1 pre{padding: 0;}#sk-container-id-1 div.sk-toggleable {background-color: white;}#sk-container-id-1 label.sk-toggleable__label {cursor: pointer;display: block;width: 100%;margin-bottom: 0;padding: 0.3em;box-sizing: border-box;text-align: center;}#sk-container-id-1 label.sk-toggleable__label-arrow:before {content: \"▸\";float: left;margin-right: 0.25em;color: #696969;}#sk-container-id-1 label.sk-toggleable__label-arrow:hover:before {color: black;}#sk-container-id-1 div.sk-estimator:hover label.sk-toggleable__label-arrow:before {color: black;}#sk-container-id-1 div.sk-toggleable__content {max-height: 0;max-width: 0;overflow: hidden;text-align: left;background-color: #f0f8ff;}#sk-container-id-1 div.sk-toggleable__content pre {margin: 0.2em;color: black;border-radius: 0.25em;background-color: #f0f8ff;}#sk-container-id-1 input.sk-toggleable__control:checked~div.sk-toggleable__content {max-height: 200px;max-width: 100%;overflow: auto;}#sk-container-id-1 input.sk-toggleable__control:checked~label.sk-toggleable__label-arrow:before {content: \"▾\";}#sk-container-id-1 div.sk-estimator input.sk-toggleable__control:checked~label.sk-toggleable__label {background-color: #d4ebff;}#sk-container-id-1 div.sk-label input.sk-toggleable__control:checked~label.sk-toggleable__label {background-color: #d4ebff;}#sk-container-id-1 input.sk-hidden--visually {border: 0;clip: rect(1px 1px 1px 1px);clip: rect(1px, 1px, 1px, 1px);height: 1px;margin: -1px;overflow: hidden;padding: 0;position: absolute;width: 1px;}#sk-container-id-1 div.sk-estimator {font-family: monospace;background-color: #f0f8ff;border: 1px dotted black;border-radius: 0.25em;box-sizing: border-box;margin-bottom: 0.5em;}#sk-container-id-1 div.sk-estimator:hover {background-color: #d4ebff;}#sk-container-id-1 div.sk-parallel-item::after {content: \"\";width: 100%;border-bottom: 1px solid gray;flex-grow: 1;}#sk-container-id-1 div.sk-label:hover label.sk-toggleable__label {background-color: #d4ebff;}#sk-container-id-1 div.sk-serial::before {content: \"\";position: absolute;border-left: 1px solid gray;box-sizing: border-box;top: 0;bottom: 0;left: 50%;z-index: 0;}#sk-container-id-1 div.sk-serial {display: flex;flex-direction: column;align-items: center;background-color: white;padding-right: 0.2em;padding-left: 0.2em;position: relative;}#sk-container-id-1 div.sk-item {position: relative;z-index: 1;}#sk-container-id-1 div.sk-parallel {display: flex;align-items: stretch;justify-content: center;background-color: white;position: relative;}#sk-container-id-1 div.sk-item::before, #sk-container-id-1 div.sk-parallel-item::before {content: \"\";position: absolute;border-left: 1px solid gray;box-sizing: border-box;top: 0;bottom: 0;left: 50%;z-index: -1;}#sk-container-id-1 div.sk-parallel-item {display: flex;flex-direction: column;z-index: 1;position: relative;background-color: white;}#sk-container-id-1 div.sk-parallel-item:first-child::after {align-self: flex-end;width: 50%;}#sk-container-id-1 div.sk-parallel-item:last-child::after {align-self: flex-start;width: 50%;}#sk-container-id-1 div.sk-parallel-item:only-child::after {width: 0;}#sk-container-id-1 div.sk-dashed-wrapped {border: 1px dashed gray;margin: 0 0.4em 0.5em 0.4em;box-sizing: border-box;padding-bottom: 0.4em;background-color: white;}#sk-container-id-1 div.sk-label label {font-family: monospace;font-weight: bold;display: inline-block;line-height: 1.2em;}#sk-container-id-1 div.sk-label-container {text-align: center;}#sk-container-id-1 div.sk-container {/* jupyter's `normalize.less` sets `[hidden] { display: none; }` but bootstrap.min.css set `[hidden] { display: none !important; }` so we also need the `!important` here to be able to override the default hidden behavior on the sphinx rendered scikit-learn.org. See: https://github.com/scikit-learn/scikit-learn/issues/21755 */display: inline-block !important;position: relative;}#sk-container-id-1 div.sk-text-repr-fallback {display: none;}</style><div id=\"sk-container-id-1\" class=\"sk-top-container\"><div class=\"sk-text-repr-fallback\"><pre>GaussianNB()</pre><b>In a Jupyter environment, please rerun this cell to show the HTML representation or trust the notebook. <br />On GitHub, the HTML representation is unable to render, please try loading this page with nbviewer.org.</b></div><div class=\"sk-container\" hidden><div class=\"sk-item\"><div class=\"sk-estimator sk-toggleable\"><input class=\"sk-toggleable__control sk-hidden--visually\" id=\"sk-estimator-id-1\" type=\"checkbox\" checked><label for=\"sk-estimator-id-1\" class=\"sk-toggleable__label sk-toggleable__label-arrow\">GaussianNB</label><div class=\"sk-toggleable__content\"><pre>GaussianNB()</pre></div></div></div></div></div>"
      ],
      "text/plain": [
       "GaussianNB()"
      ]
     },
     "execution_count": 19,
     "metadata": {},
     "output_type": "execute_result"
    }
   ],
   "source": [
    "from sklearn.naive_bayes import GaussianNB\n",
    "classifier = GaussianNB()\n",
    "classifier.fit(X_train, y_train)"
   ]
  },
  {
   "cell_type": "code",
   "execution_count": 20,
   "metadata": {},
   "outputs": [],
   "source": [
    "feature_names = X.columns"
   ]
  },
  {
   "cell_type": "markdown",
   "metadata": {},
   "source": [
    "# Predict test result"
   ]
  },
  {
   "cell_type": "code",
   "execution_count": 21,
   "metadata": {},
   "outputs": [],
   "source": [
    "y_pred = classifier.predict(X_test)"
   ]
  },
  {
   "cell_type": "markdown",
   "metadata": {},
   "source": [
    "# Confusion matrix"
   ]
  },
  {
   "cell_type": "code",
   "execution_count": 22,
   "metadata": {},
   "outputs": [
    {
     "name": "stdout",
     "output_type": "stream",
     "text": [
      "[[626  95 163]\n",
      " [361 168 396]\n",
      " [242 126 602]]\n",
      "Accuracy is 0.5023389708528248\n"
     ]
    }
   ],
   "source": [
    "from sklearn.metrics import confusion_matrix, accuracy_score\n",
    "cm = confusion_matrix(y_test, y_pred)\n",
    "print(cm)\n",
    "original_accuracy = accuracy_score(y_test, y_pred)\n",
    "print('Accuracy is', original_accuracy)"
   ]
  },
  {
   "cell_type": "markdown",
   "metadata": {},
   "source": [
    "# Data visualisation"
   ]
  },
  {
   "cell_type": "code",
   "execution_count": 23,
   "metadata": {},
   "outputs": [
    {
     "data": {
      "text/plain": [
       "Text(0.5, 1.0, 'Confusion Matrix')"
      ]
     },
     "execution_count": 23,
     "metadata": {},
     "output_type": "execute_result"
    },
    {
     "data": {
      "image/png": "[encoded data removed]",
      "text/plain": [
       "<Figure size 432x288 with 1 Axes>"
      ]
     },
     "metadata": {
      "needs_background": "light"
     },
     "output_type": "display_data"
    }
   ],
   "source": [
    "custom_labels = ['No diabetes', 'Prediabetes', 'Diabetes']\n",
    "import seaborn as sns\n",
    "sns.heatmap(cm, annot=True, fmt=\"d\", cmap=\"Blues\", cbar=False, xticklabels=custom_labels, yticklabels=custom_labels)\n",
    "plt.xlabel(\"Predicted\")\n",
    "plt.ylabel(\"True\")\n",
    "plt.title(\"Confusion Matrix\")"
   ]
  },
  {
   "cell_type": "markdown",
   "metadata": {},
   "source": [
    "# Feature ranking"
   ]
  },
  {
   "cell_type": "code",
   "execution_count": 24,
   "metadata": {},
   "outputs": [],
   "source": [
    "feature_importances = []\n",
    "for feature in range(X.shape[1]):\n",
    "    X_test_permuted = X_test.copy().to_numpy()  # Convert DataFrame to NumPy array\n",
    "    np.random.shuffle(X_test_permuted[:, feature])  # Shuffle along rows for the specific feature\n",
    "    \n",
    "    # Recreate DataFrame with shuffled values and original feature names\n",
    "    X_test_permuted = pd.DataFrame(X_test_permuted, columns=feature_names)\n",
    "    \n",
    "    permuted_accuracy = accuracy_score(y_test, classifier.predict(X_test_permuted))\n",
    "    feature_importance = original_accuracy - permuted_accuracy\n",
    "    feature_importances.append((feature_names[feature], feature_importance))  # Use feature_names[feature] to get the correct column name\n"
   ]
  },
  {
   "cell_type": "code",
   "execution_count": 25,
   "metadata": {},
   "outputs": [],
   "source": [
    "feature_importances.sort(key=lambda x: x[1], reverse=True)"
   ]
  },
  {
   "cell_type": "code",
   "execution_count": 26,
   "metadata": {},
   "outputs": [
    {
     "name": "stdout",
     "output_type": "stream",
     "text": [
      "Feature BMI: Importance 0.01727240014393666\n",
      "Feature HighBP: Importance 0.014033825116948562\n",
      "Feature Stroke: Importance 0.01331414177761786\n",
      "Feature HeartDiseaseorAttack: Importance 0.01259445843828716\n",
      "Feature HighChol: Importance 0.012234616768621809\n",
      "Feature HvyAlcoholConsump: Importance 0.008636200071968303\n",
      "Feature AnyHealthcare: Importance 0.006836991723641606\n",
      "Feature CholCheck: Importance 0.005757466714645554\n",
      "Feature Veggies: Importance 0.005397625044980203\n",
      "Feature Age: Importance 0.005397625044980203\n",
      "Feature GenHlth: Importance 0.0032385750269880997\n",
      "Feature NoDocbcCost: Importance 0.002878733357322749\n",
      "Feature MentHlth: Importance 0.0025188916876573986\n",
      "Feature Education: Importance 0.0021590500179921035\n",
      "Feature Sex: Importance 0.0010795250089959962\n",
      "Feature PhysHlth: Importance 0.00035984166966529507\n",
      "Feature Smoker: Importance 0.0\n",
      "Feature Income: Importance 0.0\n",
      "Feature Fruits: Importance -0.0007196833393307012\n",
      "Feature DiffWalk: Importance -0.004318100035984207\n",
      "Feature PhysActivity: Importance -0.010435408420295111\n"
     ]
    }
   ],
   "source": [
    "for feature, importance in feature_importances:\n",
    "    print(f\"Feature {feature}: Importance {importance}\")"
   ]
  },
  {
   "cell_type": "code",
   "execution_count": 27,
   "metadata": {},
   "outputs": [
    {
     "data": {
      "image/png": "[encoded data removed]",
      "text/plain": [
       "<Figure size 720x432 with 1 Axes>"
      ]
     },
     "metadata": {
      "needs_background": "light"
     },
     "output_type": "display_data"
    }
   ],
   "source": [
    "feature_importances.sort(key=lambda x: x[1], reverse=True)\n",
    "\n",
    "# Extract sorted feature names and importances\n",
    "sorted_feature_names = [feature for feature, _ in feature_importances]\n",
    "sorted_importances = [importance for _, importance in feature_importances]\n",
    "\n",
    "# Plotting\n",
    "plt.figure(figsize=(10, 6))\n",
    "plt.bar(sorted_feature_names, sorted_importances, color='skyblue')\n",
    "plt.xlabel('Features')\n",
    "plt.ylabel('Importance')\n",
    "plt.title('Permutation Importance for each Feature')\n",
    "plt.xticks(rotation=45, ha='right')  # Rotate feature names for better visibility\n",
    "plt.show()"
   ]
  }
 ],
 "metadata": {
  "kernelspec": {
   "display_name": "Python 3",
   "language": "python",
   "name": "python3"
  },
  "language_info": {
   "codemirror_mode": {
    "name": "ipython",
    "version": 3
   },
   "file_extension": ".py",
   "mimetype": "text/x-python",
   "name": "python",
   "nbconvert_exporter": "python",
   "pygments_lexer": "ipython3",
   "version": "3.10.11"
  }
 },
 "nbformat": 4,
 "nbformat_minor": 2
}
