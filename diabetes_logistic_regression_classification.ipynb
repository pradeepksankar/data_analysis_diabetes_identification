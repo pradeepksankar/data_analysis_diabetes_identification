{
 "cells": [
  {
   "cell_type": "markdown",
   "metadata": {},
   "source": [
    "# Import libraries"
   ]
  },
  {
   "cell_type": "code",
   "execution_count": 1,
   "metadata": {},
   "outputs": [],
   "source": [
    "import numpy as np\n",
    "import matplotlib.pyplot as plt\n",
    "import pandas as pd"
   ]
  },
  {
   "cell_type": "markdown",
   "metadata": {},
   "source": [
    "# Import dataset"
   ]
  },
  {
   "cell_type": "code",
   "execution_count": 2,
   "metadata": {},
   "outputs": [],
   "source": [
    "dataset = pd.read_csv('diabetes_012_health_indicators_BRFSS2015.csv')"
   ]
  },
  {
   "cell_type": "markdown",
   "metadata": {},
   "source": [
    "# Data preprocessing"
   ]
  },
  {
   "cell_type": "code",
   "execution_count": 3,
   "metadata": {},
   "outputs": [
    {
     "name": "stdout",
     "output_type": "stream",
     "text": [
      "<class 'pandas.core.frame.DataFrame'>\n",
      "RangeIndex: 253680 entries, 0 to 253679\n",
      "Data columns (total 22 columns):\n",
      " #   Column                Non-Null Count   Dtype  \n",
      "---  ------                --------------   -----  \n",
      " 0   Diabetes_012          253680 non-null  float64\n",
      " 1   HighBP                253680 non-null  float64\n",
      " 2   HighChol              253680 non-null  float64\n",
      " 3   CholCheck             253680 non-null  float64\n",
      " 4   BMI                   253680 non-null  float64\n",
      " 5   Smoker                253680 non-null  float64\n",
      " 6   Stroke                253680 non-null  float64\n",
      " 7   HeartDiseaseorAttack  253680 non-null  float64\n",
      " 8   PhysActivity          253680 non-null  float64\n",
      " 9   Fruits                253680 non-null  float64\n",
      " 10  Veggies               253680 non-null  float64\n",
      " 11  HvyAlcoholConsump     253680 non-null  float64\n",
      " 12  AnyHealthcare         253680 non-null  float64\n",
      " 13  NoDocbcCost           253680 non-null  float64\n",
      " 14  GenHlth               253680 non-null  float64\n",
      " 15  MentHlth              253680 non-null  float64\n",
      " 16  PhysHlth              253680 non-null  float64\n",
      " 17  DiffWalk              253680 non-null  float64\n",
      " 18  Sex                   253680 non-null  float64\n",
      " 19  Age                   253680 non-null  float64\n",
      " 20  Education             253680 non-null  float64\n",
      " 21  Income                253680 non-null  float64\n",
      "dtypes: float64(22)\n",
      "memory usage: 42.6 MB\n"
     ]
    }
   ],
   "source": [
    "dataset.info()"
   ]
  },
  {
   "cell_type": "code",
   "execution_count": 4,
   "metadata": {},
   "outputs": [
    {
     "name": "stdout",
     "output_type": "stream",
     "text": [
      "Number of persons analysed : 253680\n",
      "Number of factors : 22\n"
     ]
    }
   ],
   "source": [
    "print('Number of persons analysed :', dataset.shape[0])\n",
    "print('Number of factors :', dataset.shape[1])"
   ]
  },
  {
   "cell_type": "markdown",
   "metadata": {},
   "source": [
    "## Check data imbalance"
   ]
  },
  {
   "cell_type": "code",
   "execution_count": 5,
   "metadata": {},
   "outputs": [
    {
     "name": "stdout",
     "output_type": "stream",
     "text": [
      "Number of unique values present to identify diabetes\n",
      "Diabetes_012\n",
      "0.0    213703\n",
      "2.0     35346\n",
      "1.0      4631\n",
      "Name: count, dtype: int64\n"
     ]
    }
   ],
   "source": [
    "print('Number of unique values present to identify diabetes')\n",
    "print(dataset['Diabetes_012'].value_counts())"
   ]
  },
  {
   "cell_type": "markdown",
   "metadata": {},
   "source": [
    "## Downsampling"
   ]
  },
  {
   "cell_type": "code",
   "execution_count": 6,
   "metadata": {},
   "outputs": [],
   "source": [
    "downsampled_data = dataset.groupby('Diabetes_012').apply(lambda x: x.sample(4631))"
   ]
  },
  {
   "cell_type": "code",
   "execution_count": 7,
   "metadata": {},
   "outputs": [
    {
     "name": "stdout",
     "output_type": "stream",
     "text": [
      "                     Diabetes_012  HighBP  HighChol  CholCheck   BMI  Smoker  \\\n",
      "Diabetes_012                                                                   \n",
      "0.0          84457            0.0     0.0       1.0        1.0  30.0     1.0   \n",
      "             188109           0.0     0.0       0.0        1.0  25.0     1.0   \n",
      "             97589            0.0     0.0       1.0        1.0  26.0     1.0   \n",
      "             113793           0.0     0.0       0.0        1.0  26.0     1.0   \n",
      "             114806           0.0     0.0       0.0        1.0  28.0     0.0   \n",
      "...                           ...     ...       ...        ...   ...     ...   \n",
      "2.0          240284           2.0     1.0       1.0        1.0  25.0     1.0   \n",
      "             16805            2.0     1.0       1.0        1.0  27.0     0.0   \n",
      "             221165           2.0     0.0       1.0        1.0  24.0     1.0   \n",
      "             126761           2.0     1.0       1.0        1.0  27.0     1.0   \n",
      "             155921           2.0     1.0       1.0        1.0  33.0     0.0   \n",
      "\n",
      "                     Stroke  HeartDiseaseorAttack  PhysActivity  Fruits  ...  \\\n",
      "Diabetes_012                                                             ...   \n",
      "0.0          84457      0.0                   0.0           1.0     1.0  ...   \n",
      "             188109     0.0                   0.0           1.0     0.0  ...   \n",
      "             97589      0.0                   0.0           1.0     1.0  ...   \n",
      "             113793     0.0                   0.0           1.0     1.0  ...   \n",
      "             114806     0.0                   0.0           1.0     0.0  ...   \n",
      "...                     ...                   ...           ...     ...  ...   \n",
      "2.0          240284     0.0                   0.0           1.0     0.0  ...   \n",
      "             16805      0.0                   0.0           1.0     1.0  ...   \n",
      "             221165     1.0                   1.0           1.0     1.0  ...   \n",
      "             126761     0.0                   0.0           1.0     1.0  ...   \n",
      "             155921     0.0                   0.0           1.0     1.0  ...   \n",
      "\n",
      "                     AnyHealthcare  NoDocbcCost  GenHlth  MentHlth  PhysHlth  \\\n",
      "Diabetes_012                                                                   \n",
      "0.0          84457             1.0          0.0      2.0       0.0       0.0   \n",
      "             188109            1.0          0.0      3.0       3.0       0.0   \n",
      "             97589             1.0          0.0      1.0       0.0       0.0   \n",
      "             113793            1.0          0.0      1.0       0.0       0.0   \n",
      "             114806            1.0          0.0      2.0       0.0       0.0   \n",
      "...                            ...          ...      ...       ...       ...   \n",
      "2.0          240284            1.0          0.0      3.0       0.0       0.0   \n",
      "             16805             1.0          0.0      3.0       0.0       4.0   \n",
      "             221165            1.0          0.0      4.0       0.0      15.0   \n",
      "             126761            1.0          0.0      4.0       0.0       0.0   \n",
      "             155921            1.0          0.0      3.0       3.0       0.0   \n",
      "\n",
      "                     DiffWalk  Sex   Age  Education  Income  \n",
      "Diabetes_012                                                 \n",
      "0.0          84457        0.0  1.0  11.0        4.0     6.0  \n",
      "             188109       0.0  1.0   3.0        5.0     6.0  \n",
      "             97589        0.0  1.0   8.0        6.0     8.0  \n",
      "             113793       0.0  1.0   7.0        4.0     8.0  \n",
      "             114806       0.0  0.0   7.0        5.0     8.0  \n",
      "...                       ...  ...   ...        ...     ...  \n",
      "2.0          240284       0.0  0.0  12.0        4.0     6.0  \n",
      "             16805        0.0  1.0   9.0        5.0     8.0  \n",
      "             221165       0.0  0.0  13.0        5.0     2.0  \n",
      "             126761       0.0  1.0  10.0        6.0     7.0  \n",
      "             155921       0.0  0.0   5.0        6.0     6.0  \n",
      "\n",
      "[13893 rows x 22 columns]\n"
     ]
    }
   ],
   "source": [
    "print(downsampled_data)"
   ]
  },
  {
   "cell_type": "code",
   "execution_count": 8,
   "metadata": {},
   "outputs": [],
   "source": [
    "downsampled_data = downsampled_data.reset_index(drop=True)"
   ]
  },
  {
   "cell_type": "code",
   "execution_count": 9,
   "metadata": {},
   "outputs": [
    {
     "name": "stdout",
     "output_type": "stream",
     "text": [
      "       Diabetes_012  HighBP  HighChol  CholCheck   BMI  Smoker  Stroke  \\\n",
      "0               0.0     0.0       1.0        1.0  30.0     1.0     0.0   \n",
      "1               0.0     0.0       0.0        1.0  25.0     1.0     0.0   \n",
      "2               0.0     0.0       1.0        1.0  26.0     1.0     0.0   \n",
      "3               0.0     0.0       0.0        1.0  26.0     1.0     0.0   \n",
      "4               0.0     0.0       0.0        1.0  28.0     0.0     0.0   \n",
      "...             ...     ...       ...        ...   ...     ...     ...   \n",
      "13888           2.0     1.0       1.0        1.0  25.0     1.0     0.0   \n",
      "13889           2.0     1.0       1.0        1.0  27.0     0.0     0.0   \n",
      "13890           2.0     0.0       1.0        1.0  24.0     1.0     1.0   \n",
      "13891           2.0     1.0       1.0        1.0  27.0     1.0     0.0   \n",
      "13892           2.0     1.0       1.0        1.0  33.0     0.0     0.0   \n",
      "\n",
      "       HeartDiseaseorAttack  PhysActivity  Fruits  ...  AnyHealthcare  \\\n",
      "0                       0.0           1.0     1.0  ...            1.0   \n",
      "1                       0.0           1.0     0.0  ...            1.0   \n",
      "2                       0.0           1.0     1.0  ...            1.0   \n",
      "3                       0.0           1.0     1.0  ...            1.0   \n",
      "4                       0.0           1.0     0.0  ...            1.0   \n",
      "...                     ...           ...     ...  ...            ...   \n",
      "13888                   0.0           1.0     0.0  ...            1.0   \n",
      "13889                   0.0           1.0     1.0  ...            1.0   \n",
      "13890                   1.0           1.0     1.0  ...            1.0   \n",
      "13891                   0.0           1.0     1.0  ...            1.0   \n",
      "13892                   0.0           1.0     1.0  ...            1.0   \n",
      "\n",
      "       NoDocbcCost  GenHlth  MentHlth  PhysHlth  DiffWalk  Sex   Age  \\\n",
      "0              0.0      2.0       0.0       0.0       0.0  1.0  11.0   \n",
      "1              0.0      3.0       3.0       0.0       0.0  1.0   3.0   \n",
      "2              0.0      1.0       0.0       0.0       0.0  1.0   8.0   \n",
      "3              0.0      1.0       0.0       0.0       0.0  1.0   7.0   \n",
      "4              0.0      2.0       0.0       0.0       0.0  0.0   7.0   \n",
      "...            ...      ...       ...       ...       ...  ...   ...   \n",
      "13888          0.0      3.0       0.0       0.0       0.0  0.0  12.0   \n",
      "13889          0.0      3.0       0.0       4.0       0.0  1.0   9.0   \n",
      "13890          0.0      4.0       0.0      15.0       0.0  0.0  13.0   \n",
      "13891          0.0      4.0       0.0       0.0       0.0  1.0  10.0   \n",
      "13892          0.0      3.0       3.0       0.0       0.0  0.0   5.0   \n",
      "\n",
      "       Education  Income  \n",
      "0            4.0     6.0  \n",
      "1            5.0     6.0  \n",
      "2            6.0     8.0  \n",
      "3            4.0     8.0  \n",
      "4            5.0     8.0  \n",
      "...          ...     ...  \n",
      "13888        4.0     6.0  \n",
      "13889        5.0     8.0  \n",
      "13890        5.0     2.0  \n",
      "13891        6.0     7.0  \n",
      "13892        6.0     6.0  \n",
      "\n",
      "[13893 rows x 22 columns]\n"
     ]
    }
   ],
   "source": [
    "print(downsampled_data)"
   ]
  },
  {
   "cell_type": "code",
   "execution_count": 10,
   "metadata": {},
   "outputs": [
    {
     "name": "stdout",
     "output_type": "stream",
     "text": [
      "Diabetes_012\n",
      "0.0    4631\n",
      "1.0    4631\n",
      "2.0    4631\n",
      "Name: count, dtype: int64\n"
     ]
    }
   ],
   "source": [
    "print(downsampled_data['Diabetes_012'].value_counts())"
   ]
  },
  {
   "cell_type": "markdown",
   "metadata": {},
   "source": [
    "# Classification"
   ]
  },
  {
   "cell_type": "markdown",
   "metadata": {},
   "source": [
    "## Data split"
   ]
  },
  {
   "cell_type": "code",
   "execution_count": 11,
   "metadata": {},
   "outputs": [],
   "source": [
    "X = downsampled_data.iloc[:, 1:]\n",
    "y = downsampled_data.iloc[:, 0]"
   ]
  },
  {
   "cell_type": "code",
   "execution_count": 12,
   "metadata": {},
   "outputs": [
    {
     "name": "stdout",
     "output_type": "stream",
     "text": [
      "       HighBP  HighChol  CholCheck   BMI  Smoker  Stroke  \\\n",
      "0         0.0       1.0        1.0  30.0     1.0     0.0   \n",
      "1         0.0       0.0        1.0  25.0     1.0     0.0   \n",
      "2         0.0       1.0        1.0  26.0     1.0     0.0   \n",
      "3         0.0       0.0        1.0  26.0     1.0     0.0   \n",
      "4         0.0       0.0        1.0  28.0     0.0     0.0   \n",
      "...       ...       ...        ...   ...     ...     ...   \n",
      "13888     1.0       1.0        1.0  25.0     1.0     0.0   \n",
      "13889     1.0       1.0        1.0  27.0     0.0     0.0   \n",
      "13890     0.0       1.0        1.0  24.0     1.0     1.0   \n",
      "13891     1.0       1.0        1.0  27.0     1.0     0.0   \n",
      "13892     1.0       1.0        1.0  33.0     0.0     0.0   \n",
      "\n",
      "       HeartDiseaseorAttack  PhysActivity  Fruits  Veggies  ...  \\\n",
      "0                       0.0           1.0     1.0      1.0  ...   \n",
      "1                       0.0           1.0     0.0      1.0  ...   \n",
      "2                       0.0           1.0     1.0      1.0  ...   \n",
      "3                       0.0           1.0     1.0      1.0  ...   \n",
      "4                       0.0           1.0     0.0      1.0  ...   \n",
      "...                     ...           ...     ...      ...  ...   \n",
      "13888                   0.0           1.0     0.0      0.0  ...   \n",
      "13889                   0.0           1.0     1.0      1.0  ...   \n",
      "13890                   1.0           1.0     1.0      1.0  ...   \n",
      "13891                   0.0           1.0     1.0      1.0  ...   \n",
      "13892                   0.0           1.0     1.0      1.0  ...   \n",
      "\n",
      "       AnyHealthcare  NoDocbcCost  GenHlth  MentHlth  PhysHlth  DiffWalk  Sex  \\\n",
      "0                1.0          0.0      2.0       0.0       0.0       0.0  1.0   \n",
      "1                1.0          0.0      3.0       3.0       0.0       0.0  1.0   \n",
      "2                1.0          0.0      1.0       0.0       0.0       0.0  1.0   \n",
      "3                1.0          0.0      1.0       0.0       0.0       0.0  1.0   \n",
      "4                1.0          0.0      2.0       0.0       0.0       0.0  0.0   \n",
      "...              ...          ...      ...       ...       ...       ...  ...   \n",
      "13888            1.0          0.0      3.0       0.0       0.0       0.0  0.0   \n",
      "13889            1.0          0.0      3.0       0.0       4.0       0.0  1.0   \n",
      "13890            1.0          0.0      4.0       0.0      15.0       0.0  0.0   \n",
      "13891            1.0          0.0      4.0       0.0       0.0       0.0  1.0   \n",
      "13892            1.0          0.0      3.0       3.0       0.0       0.0  0.0   \n",
      "\n",
      "        Age  Education  Income  \n",
      "0      11.0        4.0     6.0  \n",
      "1       3.0        5.0     6.0  \n",
      "2       8.0        6.0     8.0  \n",
      "3       7.0        4.0     8.0  \n",
      "4       7.0        5.0     8.0  \n",
      "...     ...        ...     ...  \n",
      "13888  12.0        4.0     6.0  \n",
      "13889   9.0        5.0     8.0  \n",
      "13890  13.0        5.0     2.0  \n",
      "13891  10.0        6.0     7.0  \n",
      "13892   5.0        6.0     6.0  \n",
      "\n",
      "[13893 rows x 21 columns]\n"
     ]
    }
   ],
   "source": [
    "print(X)"
   ]
  },
  {
   "cell_type": "code",
   "execution_count": 13,
   "metadata": {},
   "outputs": [
    {
     "name": "stdout",
     "output_type": "stream",
     "text": [
      "0        0.0\n",
      "1        0.0\n",
      "2        0.0\n",
      "3        0.0\n",
      "4        0.0\n",
      "        ... \n",
      "13888    2.0\n",
      "13889    2.0\n",
      "13890    2.0\n",
      "13891    2.0\n",
      "13892    2.0\n",
      "Name: Diabetes_012, Length: 13893, dtype: float64\n"
     ]
    }
   ],
   "source": [
    "print(y)"
   ]
  },
  {
   "cell_type": "code",
   "execution_count": 14,
   "metadata": {},
   "outputs": [],
   "source": [
    "from sklearn.model_selection import train_test_split\n",
    "X_train, X_test, y_train, y_test = train_test_split(X, y, test_size = 0.2, random_state = 0)"
   ]
  },
  {
   "cell_type": "code",
   "execution_count": 15,
   "metadata": {},
   "outputs": [
    {
     "name": "stdout",
     "output_type": "stream",
     "text": [
      "       HighBP  HighChol  CholCheck   BMI  Smoker  Stroke  \\\n",
      "5753      1.0       0.0        1.0  31.0     0.0     0.0   \n",
      "9135      0.0       0.0        1.0  31.0     0.0     0.0   \n",
      "9381      1.0       1.0        1.0  39.0     1.0     0.0   \n",
      "12965     0.0       0.0        1.0  30.0     1.0     0.0   \n",
      "6681      1.0       1.0        1.0  31.0     1.0     0.0   \n",
      "...       ...       ...        ...   ...     ...     ...   \n",
      "13123     1.0       1.0        1.0  23.0     0.0     0.0   \n",
      "3264      0.0       1.0        1.0  43.0     0.0     0.0   \n",
      "9845      0.0       1.0        1.0  24.0     0.0     0.0   \n",
      "10799     1.0       1.0        1.0  30.0     0.0     0.0   \n",
      "2732      0.0       0.0        1.0  24.0     0.0     0.0   \n",
      "\n",
      "       HeartDiseaseorAttack  PhysActivity  Fruits  Veggies  ...  \\\n",
      "5753                    0.0           1.0     0.0      1.0  ...   \n",
      "9135                    0.0           0.0     1.0      1.0  ...   \n",
      "9381                    0.0           0.0     0.0      1.0  ...   \n",
      "12965                   0.0           0.0     1.0      1.0  ...   \n",
      "6681                    0.0           1.0     1.0      0.0  ...   \n",
      "...                     ...           ...     ...      ...  ...   \n",
      "13123                   0.0           1.0     0.0      0.0  ...   \n",
      "3264                    0.0           1.0     1.0      1.0  ...   \n",
      "9845                    0.0           1.0     0.0      1.0  ...   \n",
      "10799                   0.0           0.0     0.0      0.0  ...   \n",
      "2732                    0.0           1.0     1.0      1.0  ...   \n",
      "\n",
      "       AnyHealthcare  NoDocbcCost  GenHlth  MentHlth  PhysHlth  DiffWalk  Sex  \\\n",
      "5753             1.0          0.0      4.0       0.0       1.0       1.0  0.0   \n",
      "9135             1.0          0.0      2.0       0.0       0.0       0.0  0.0   \n",
      "9381             1.0          0.0      4.0       0.0      18.0       1.0  1.0   \n",
      "12965            1.0          0.0      4.0       0.0      30.0       1.0  0.0   \n",
      "6681             1.0          0.0      2.0       0.0       0.0       0.0  1.0   \n",
      "...              ...          ...      ...       ...       ...       ...  ...   \n",
      "13123            1.0          0.0      4.0       0.0       2.0       0.0  0.0   \n",
      "3264             1.0          0.0      3.0       0.0       0.0       0.0  1.0   \n",
      "9845             1.0          0.0      3.0       0.0       0.0       1.0  1.0   \n",
      "10799            1.0          0.0      2.0       0.0       0.0       0.0  0.0   \n",
      "2732             1.0          0.0      2.0       0.0       0.0       0.0  1.0   \n",
      "\n",
      "        Age  Education  Income  \n",
      "5753    9.0        6.0     7.0  \n",
      "9135   11.0        6.0     6.0  \n",
      "9381    4.0        6.0     8.0  \n",
      "12965  12.0        6.0     5.0  \n",
      "6681   12.0        4.0     4.0  \n",
      "...     ...        ...     ...  \n",
      "13123   9.0        5.0     4.0  \n",
      "3264    6.0        6.0     6.0  \n",
      "9845   12.0        4.0     5.0  \n",
      "10799  13.0        4.0     3.0  \n",
      "2732    5.0        6.0     8.0  \n",
      "\n",
      "[11114 rows x 21 columns]\n"
     ]
    }
   ],
   "source": [
    "print(X_train)"
   ]
  },
  {
   "cell_type": "code",
   "execution_count": 16,
   "metadata": {},
   "outputs": [
    {
     "name": "stdout",
     "output_type": "stream",
     "text": [
      "5753     1.0\n",
      "9135     1.0\n",
      "9381     2.0\n",
      "12965    2.0\n",
      "6681     1.0\n",
      "        ... \n",
      "13123    2.0\n",
      "3264     0.0\n",
      "9845     2.0\n",
      "10799    2.0\n",
      "2732     0.0\n",
      "Name: Diabetes_012, Length: 11114, dtype: float64\n"
     ]
    }
   ],
   "source": [
    "print(y_train)"
   ]
  },
  {
   "cell_type": "code",
   "execution_count": 17,
   "metadata": {},
   "outputs": [
    {
     "name": "stdout",
     "output_type": "stream",
     "text": [
      "      HighBP  HighChol  CholCheck   BMI  Smoker  Stroke  HeartDiseaseorAttack  \\\n",
      "2818     1.0       0.0        1.0  25.0     0.0     0.0                   0.0   \n",
      "9003     1.0       1.0        1.0  26.0     0.0     0.0                   1.0   \n",
      "6481     1.0       1.0        1.0  32.0     1.0     1.0                   0.0   \n",
      "5193     0.0       1.0        1.0  25.0     0.0     0.0                   1.0   \n",
      "7028     1.0       0.0        1.0  46.0     0.0     0.0                   0.0   \n",
      "...      ...       ...        ...   ...     ...     ...                   ...   \n",
      "8133     1.0       1.0        1.0  33.0     1.0     0.0                   0.0   \n",
      "6978     1.0       0.0        1.0  36.0     0.0     0.0                   0.0   \n",
      "8783     1.0       1.0        1.0  27.0     0.0     0.0                   0.0   \n",
      "6789     1.0       1.0        1.0  30.0     0.0     0.0                   0.0   \n",
      "6878     0.0       0.0        1.0  25.0     0.0     0.0                   0.0   \n",
      "\n",
      "      PhysActivity  Fruits  Veggies  ...  AnyHealthcare  NoDocbcCost  GenHlth  \\\n",
      "2818           1.0     1.0      1.0  ...            1.0          0.0      1.0   \n",
      "9003           1.0     1.0      1.0  ...            1.0          0.0      3.0   \n",
      "6481           1.0     0.0      1.0  ...            1.0          0.0      5.0   \n",
      "5193           0.0     0.0      0.0  ...            1.0          1.0      4.0   \n",
      "7028           0.0     1.0      1.0  ...            1.0          0.0      3.0   \n",
      "...            ...     ...      ...  ...            ...          ...      ...   \n",
      "8133           0.0     0.0      1.0  ...            1.0          0.0      3.0   \n",
      "6978           1.0     1.0      1.0  ...            1.0          0.0      3.0   \n",
      "8783           0.0     0.0      1.0  ...            1.0          0.0      4.0   \n",
      "6789           1.0     0.0      1.0  ...            1.0          0.0      3.0   \n",
      "6878           1.0     0.0      1.0  ...            1.0          0.0      4.0   \n",
      "\n",
      "      MentHlth  PhysHlth  DiffWalk  Sex   Age  Education  Income  \n",
      "2818       0.0       0.0       0.0  0.0   9.0        6.0     8.0  \n",
      "9003       0.0       0.0       0.0  1.0   9.0        4.0     2.0  \n",
      "6481       0.0      30.0       1.0  1.0   8.0        5.0     7.0  \n",
      "5193      30.0      21.0       1.0  0.0   7.0        6.0     4.0  \n",
      "7028       0.0       5.0       1.0  1.0   8.0        5.0     6.0  \n",
      "...        ...       ...       ...  ...   ...        ...     ...  \n",
      "8133       0.0       0.0       1.0  1.0  12.0        4.0     4.0  \n",
      "6978       0.0       0.0       0.0  1.0  10.0        4.0     6.0  \n",
      "8783      30.0       5.0       1.0  0.0   9.0        5.0     4.0  \n",
      "6789       0.0       0.0       0.0  0.0  12.0        5.0     4.0  \n",
      "6878       0.0       7.0       1.0  1.0   6.0        4.0     3.0  \n",
      "\n",
      "[2779 rows x 21 columns]\n"
     ]
    }
   ],
   "source": [
    "print(X_test)"
   ]
  },
  {
   "cell_type": "code",
   "execution_count": 18,
   "metadata": {},
   "outputs": [
    {
     "name": "stdout",
     "output_type": "stream",
     "text": [
      "2818    0.0\n",
      "9003    1.0\n",
      "6481    1.0\n",
      "5193    1.0\n",
      "7028    1.0\n",
      "       ... \n",
      "8133    1.0\n",
      "6978    1.0\n",
      "8783    1.0\n",
      "6789    1.0\n",
      "6878    1.0\n",
      "Name: Diabetes_012, Length: 2779, dtype: float64\n"
     ]
    }
   ],
   "source": [
    "print(y_test)"
   ]
  },
  {
   "cell_type": "markdown",
   "metadata": {},
   "source": [
    "# Logistic regression classification"
   ]
  },
  {
   "cell_type": "code",
   "execution_count": 19,
   "metadata": {},
   "outputs": [
    {
     "name": "stderr",
     "output_type": "stream",
     "text": [
      "C:\\Users\\prade\\AppData\\Local\\Packages\\PythonSoftwareFoundation.Python.3.10_qbz5n2kfra8p0\\LocalCache\\local-packages\\Python310\\site-packages\\sklearn\\linear_model\\_logistic.py:444: ConvergenceWarning: lbfgs failed to converge (status=1):\n",
      "STOP: TOTAL NO. of ITERATIONS REACHED LIMIT.\n",
      "\n",
      "Increase the number of iterations (max_iter) or scale the data as shown in:\n",
      "    https://scikit-learn.org/stable/modules/preprocessing.html\n",
      "Please also refer to the documentation for alternative solver options:\n",
      "    https://scikit-learn.org/stable/modules/linear_model.html#logistic-regression\n",
      "  n_iter_i = _check_optimize_result(\n"
     ]
    },
    {
     "data": {
      "text/html": [
       "<style>#sk-container-id-1 {color: black;background-color: white;}#sk-container-id-1 pre{padding: 0;}#sk-container-id-1 div.sk-toggleable {background-color: white;}#sk-container-id-1 label.sk-toggleable__label {cursor: pointer;display: block;width: 100%;margin-bottom: 0;padding: 0.3em;box-sizing: border-box;text-align: center;}#sk-container-id-1 label.sk-toggleable__label-arrow:before {content: \"▸\";float: left;margin-right: 0.25em;color: #696969;}#sk-container-id-1 label.sk-toggleable__label-arrow:hover:before {color: black;}#sk-container-id-1 div.sk-estimator:hover label.sk-toggleable__label-arrow:before {color: black;}#sk-container-id-1 div.sk-toggleable__content {max-height: 0;max-width: 0;overflow: hidden;text-align: left;background-color: #f0f8ff;}#sk-container-id-1 div.sk-toggleable__content pre {margin: 0.2em;color: black;border-radius: 0.25em;background-color: #f0f8ff;}#sk-container-id-1 input.sk-toggleable__control:checked~div.sk-toggleable__content {max-height: 200px;max-width: 100%;overflow: auto;}#sk-container-id-1 input.sk-toggleable__control:checked~label.sk-toggleable__label-arrow:before {content: \"▾\";}#sk-container-id-1 div.sk-estimator input.sk-toggleable__control:checked~label.sk-toggleable__label {background-color: #d4ebff;}#sk-container-id-1 div.sk-label input.sk-toggleable__control:checked~label.sk-toggleable__label {background-color: #d4ebff;}#sk-container-id-1 input.sk-hidden--visually {border: 0;clip: rect(1px 1px 1px 1px);clip: rect(1px, 1px, 1px, 1px);height: 1px;margin: -1px;overflow: hidden;padding: 0;position: absolute;width: 1px;}#sk-container-id-1 div.sk-estimator {font-family: monospace;background-color: #f0f8ff;border: 1px dotted black;border-radius: 0.25em;box-sizing: border-box;margin-bottom: 0.5em;}#sk-container-id-1 div.sk-estimator:hover {background-color: #d4ebff;}#sk-container-id-1 div.sk-parallel-item::after {content: \"\";width: 100%;border-bottom: 1px solid gray;flex-grow: 1;}#sk-container-id-1 div.sk-label:hover label.sk-toggleable__label {background-color: #d4ebff;}#sk-container-id-1 div.sk-serial::before {content: \"\";position: absolute;border-left: 1px solid gray;box-sizing: border-box;top: 0;bottom: 0;left: 50%;z-index: 0;}#sk-container-id-1 div.sk-serial {display: flex;flex-direction: column;align-items: center;background-color: white;padding-right: 0.2em;padding-left: 0.2em;position: relative;}#sk-container-id-1 div.sk-item {position: relative;z-index: 1;}#sk-container-id-1 div.sk-parallel {display: flex;align-items: stretch;justify-content: center;background-color: white;position: relative;}#sk-container-id-1 div.sk-item::before, #sk-container-id-1 div.sk-parallel-item::before {content: \"\";position: absolute;border-left: 1px solid gray;box-sizing: border-box;top: 0;bottom: 0;left: 50%;z-index: -1;}#sk-container-id-1 div.sk-parallel-item {display: flex;flex-direction: column;z-index: 1;position: relative;background-color: white;}#sk-container-id-1 div.sk-parallel-item:first-child::after {align-self: flex-end;width: 50%;}#sk-container-id-1 div.sk-parallel-item:last-child::after {align-self: flex-start;width: 50%;}#sk-container-id-1 div.sk-parallel-item:only-child::after {width: 0;}#sk-container-id-1 div.sk-dashed-wrapped {border: 1px dashed gray;margin: 0 0.4em 0.5em 0.4em;box-sizing: border-box;padding-bottom: 0.4em;background-color: white;}#sk-container-id-1 div.sk-label label {font-family: monospace;font-weight: bold;display: inline-block;line-height: 1.2em;}#sk-container-id-1 div.sk-label-container {text-align: center;}#sk-container-id-1 div.sk-container {/* jupyter's `normalize.less` sets `[hidden] { display: none; }` but bootstrap.min.css set `[hidden] { display: none !important; }` so we also need the `!important` here to be able to override the default hidden behavior on the sphinx rendered scikit-learn.org. See: https://github.com/scikit-learn/scikit-learn/issues/21755 */display: inline-block !important;position: relative;}#sk-container-id-1 div.sk-text-repr-fallback {display: none;}</style><div id=\"sk-container-id-1\" class=\"sk-top-container\"><div class=\"sk-text-repr-fallback\"><pre>LogisticRegression(random_state=0)</pre><b>In a Jupyter environment, please rerun this cell to show the HTML representation or trust the notebook. <br />On GitHub, the HTML representation is unable to render, please try loading this page with nbviewer.org.</b></div><div class=\"sk-container\" hidden><div class=\"sk-item\"><div class=\"sk-estimator sk-toggleable\"><input class=\"sk-toggleable__control sk-hidden--visually\" id=\"sk-estimator-id-1\" type=\"checkbox\" checked><label for=\"sk-estimator-id-1\" class=\"sk-toggleable__label sk-toggleable__label-arrow\">LogisticRegression</label><div class=\"sk-toggleable__content\"><pre>LogisticRegression(random_state=0)</pre></div></div></div></div></div>"
      ],
      "text/plain": [
       "LogisticRegression(random_state=0)"
      ]
     },
     "execution_count": 19,
     "metadata": {},
     "output_type": "execute_result"
    }
   ],
   "source": [
    "from sklearn.linear_model import LogisticRegression\n",
    "classifier = LogisticRegression(random_state = 0)\n",
    "classifier.fit(X_train, y_train)"
   ]
  },
  {
   "cell_type": "markdown",
   "metadata": {},
   "source": [
    "# Predict test result"
   ]
  },
  {
   "cell_type": "code",
   "execution_count": 20,
   "metadata": {},
   "outputs": [],
   "source": [
    "y_pred = classifier.predict(X_test)"
   ]
  },
  {
   "cell_type": "markdown",
   "metadata": {},
   "source": [
    "# Confusion matrix"
   ]
  },
  {
   "cell_type": "code",
   "execution_count": 21,
   "metadata": {},
   "outputs": [
    {
     "name": "stdout",
     "output_type": "stream",
     "text": [
      "[[593 142 149]\n",
      " [273 265 387]\n",
      " [164 254 552]]\n"
     ]
    },
    {
     "data": {
      "text/plain": [
       "0.5073767542281397"
      ]
     },
     "execution_count": 21,
     "metadata": {},
     "output_type": "execute_result"
    }
   ],
   "source": [
    "from sklearn.metrics import confusion_matrix, accuracy_score\n",
    "cm = confusion_matrix(y_test, y_pred)\n",
    "print(cm)\n",
    "accuracy_score(y_test, y_pred)"
   ]
  },
  {
   "cell_type": "markdown",
   "metadata": {},
   "source": [
    "# Data visualisation"
   ]
  },
  {
   "cell_type": "code",
   "execution_count": 22,
   "metadata": {},
   "outputs": [
    {
     "data": {
      "text/plain": [
       "Text(0.5, 1.0, 'Confusion Matrix')"
      ]
     },
     "execution_count": 22,
     "metadata": {},
     "output_type": "execute_result"
    },
    {
     "data": {
      "image/png": "[encoded data removed]",
      "text/plain": [
       "<Figure size 432x288 with 1 Axes>"
      ]
     },
     "metadata": {
      "needs_background": "light"
     },
     "output_type": "display_data"
    }
   ],
   "source": [
    "custom_labels = ['No diabetes', 'Prediabetes', 'Diabetes']\n",
    "import seaborn as sns\n",
    "sns.heatmap(cm, annot=True, fmt=\"d\", cmap=\"Blues\", cbar=False, xticklabels=custom_labels, yticklabels=custom_labels)\n",
    "plt.xlabel(\"Predicted\")\n",
    "plt.ylabel(\"True\")\n",
    "plt.title(\"Confusion Matrix\")"
   ]
  },
  {
   "cell_type": "markdown",
   "metadata": {},
   "source": [
    "# Feature ranking"
   ]
  },
  {
   "cell_type": "code",
   "execution_count": 28,
   "metadata": {},
   "outputs": [
    {
     "name": "stdout",
     "output_type": "stream",
     "text": [
      "                 Feature  Coefficient\n",
      "11         AnyHealthcare     0.407119\n",
      "2              CholCheck     0.305413\n",
      "7           PhysActivity     0.196241\n",
      "10     HvyAlcoholConsump     0.179414\n",
      "4                 Smoker     0.147283\n",
      "9                Veggies     0.146034\n",
      "19             Education     0.115763\n",
      "20                Income     0.064503\n",
      "5                 Stroke     0.032611\n",
      "8                 Fruits     0.020850\n",
      "12           NoDocbcCost     0.010350\n",
      "15              PhysHlth     0.002421\n",
      "14              MentHlth     0.000958\n",
      "3                    BMI    -0.029912\n",
      "16              DiffWalk    -0.052839\n",
      "18                   Age    -0.062883\n",
      "6   HeartDiseaseorAttack    -0.144542\n",
      "17                   Sex    -0.147583\n",
      "13               GenHlth    -0.224187\n",
      "0                 HighBP    -0.522663\n",
      "1               HighChol    -0.571680\n"
     ]
    }
   ],
   "source": [
    "coefficients = classifier.coef_[0]\n",
    "feature_ranking = pd.DataFrame({'Feature': X.columns, 'Coefficient': coefficients})\n",
    "feature_ranking = feature_ranking.sort_values(by='Coefficient', ascending=False)\n",
    "print(feature_ranking)"
   ]
  },
  {
   "cell_type": "code",
   "execution_count": 29,
   "metadata": {},
   "outputs": [
    {
     "data": {
      "image/png": "[encoded data removed]",
      "text/plain": [
       "<Figure size 720x432 with 1 Axes>"
      ]
     },
     "metadata": {
      "needs_background": "light"
     },
     "output_type": "display_data"
    }
   ],
   "source": [
    "plt.figure(figsize=(10, 6))\n",
    "plt.bar(feature_ranking['Feature'], feature_ranking['Coefficient'])\n",
    "plt.xticks(rotation=90)\n",
    "plt.xlabel('Feature')\n",
    "plt.ylabel('Coefficient')\n",
    "plt.title('Feature Coefficients in Logistic Regression')\n",
    "plt.show()"
   ]
  }
 ],
 "metadata": {
  "kernelspec": {
   "display_name": "Python 3",
   "language": "python",
   "name": "python3"
  },
  "language_info": {
   "codemirror_mode": {
    "name": "ipython",
    "version": 3
   },
   "file_extension": ".py",
   "mimetype": "text/x-python",
   "name": "python",
   "nbconvert_exporter": "python",
   "pygments_lexer": "ipython3",
   "version": "3.10.11"
  }
 },
 "nbformat": 4,
 "nbformat_minor": 2
}
