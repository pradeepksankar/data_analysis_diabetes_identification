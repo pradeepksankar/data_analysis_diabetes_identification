{
 "cells": [
  {
   "cell_type": "markdown",
   "metadata": {},
   "source": [
    "# Import libraries"
   ]
  },
  {
   "cell_type": "code",
   "execution_count": 30,
   "metadata": {},
   "outputs": [],
   "source": [
    "import numpy as np\n",
    "import matplotlib.pyplot as plt\n",
    "import pandas as pd\n",
    "import tensorflow as tf"
   ]
  },
  {
   "cell_type": "markdown",
   "metadata": {},
   "source": [
    "# Import dataset"
   ]
  },
  {
   "cell_type": "code",
   "execution_count": 31,
   "metadata": {},
   "outputs": [],
   "source": [
    "dataset = pd.read_csv('diabetes_012_health_indicators_BRFSS2015.csv')"
   ]
  },
  {
   "cell_type": "markdown",
   "metadata": {},
   "source": [
    "# Data preprocessing"
   ]
  },
  {
   "cell_type": "code",
   "execution_count": 32,
   "metadata": {},
   "outputs": [
    {
     "name": "stdout",
     "output_type": "stream",
     "text": [
      "<class 'pandas.core.frame.DataFrame'>\n",
      "RangeIndex: 253680 entries, 0 to 253679\n",
      "Data columns (total 22 columns):\n",
      " #   Column                Non-Null Count   Dtype  \n",
      "---  ------                --------------   -----  \n",
      " 0   Diabetes_012          253680 non-null  float64\n",
      " 1   HighBP                253680 non-null  float64\n",
      " 2   HighChol              253680 non-null  float64\n",
      " 3   CholCheck             253680 non-null  float64\n",
      " 4   BMI                   253680 non-null  float64\n",
      " 5   Smoker                253680 non-null  float64\n",
      " 6   Stroke                253680 non-null  float64\n",
      " 7   HeartDiseaseorAttack  253680 non-null  float64\n",
      " 8   PhysActivity          253680 non-null  float64\n",
      " 9   Fruits                253680 non-null  float64\n",
      " 10  Veggies               253680 non-null  float64\n",
      " 11  HvyAlcoholConsump     253680 non-null  float64\n",
      " 12  AnyHealthcare         253680 non-null  float64\n",
      " 13  NoDocbcCost           253680 non-null  float64\n",
      " 14  GenHlth               253680 non-null  float64\n",
      " 15  MentHlth              253680 non-null  float64\n",
      " 16  PhysHlth              253680 non-null  float64\n",
      " 17  DiffWalk              253680 non-null  float64\n",
      " 18  Sex                   253680 non-null  float64\n",
      " 19  Age                   253680 non-null  float64\n",
      " 20  Education             253680 non-null  float64\n",
      " 21  Income                253680 non-null  float64\n",
      "dtypes: float64(22)\n",
      "memory usage: 42.6 MB\n"
     ]
    }
   ],
   "source": [
    "dataset.info()"
   ]
  },
  {
   "cell_type": "code",
   "execution_count": 33,
   "metadata": {},
   "outputs": [
    {
     "name": "stdout",
     "output_type": "stream",
     "text": [
      "Number of persons analysed : 253680\n",
      "Number of factors : 22\n"
     ]
    }
   ],
   "source": [
    "print('Number of persons analysed :', dataset.shape[0])\n",
    "print('Number of factors :', dataset.shape[1])"
   ]
  },
  {
   "cell_type": "markdown",
   "metadata": {},
   "source": [
    "## Check data imbalance"
   ]
  },
  {
   "cell_type": "code",
   "execution_count": 34,
   "metadata": {},
   "outputs": [
    {
     "name": "stdout",
     "output_type": "stream",
     "text": [
      "Number of unique values present to identify diabetes\n",
      "Diabetes_012\n",
      "0.0    213703\n",
      "2.0     35346\n",
      "1.0      4631\n",
      "Name: count, dtype: int64\n"
     ]
    }
   ],
   "source": [
    "print('Number of unique values present to identify diabetes')\n",
    "print(dataset['Diabetes_012'].value_counts())"
   ]
  },
  {
   "cell_type": "markdown",
   "metadata": {},
   "source": [
    "## Downsampling"
   ]
  },
  {
   "cell_type": "code",
   "execution_count": 35,
   "metadata": {},
   "outputs": [],
   "source": [
    "downsampled_data = dataset.groupby('Diabetes_012').apply(lambda x: x.sample(4631))"
   ]
  },
  {
   "cell_type": "code",
   "execution_count": 36,
   "metadata": {},
   "outputs": [
    {
     "name": "stdout",
     "output_type": "stream",
     "text": [
      "                     Diabetes_012  HighBP  HighChol  CholCheck   BMI  Smoker  \\\n",
      "Diabetes_012                                                                   \n",
      "0.0          203678           0.0     1.0       1.0        1.0  25.0     0.0   \n",
      "             126071           0.0     0.0       0.0        1.0  26.0     0.0   \n",
      "             182307           0.0     0.0       1.0        1.0  42.0     1.0   \n",
      "             237386           0.0     0.0       0.0        1.0  25.0     0.0   \n",
      "             162083           0.0     0.0       0.0        1.0  27.0     1.0   \n",
      "...                           ...     ...       ...        ...   ...     ...   \n",
      "2.0          96067            2.0     1.0       1.0        1.0  30.0     0.0   \n",
      "             219000           2.0     0.0       1.0        1.0  33.0     1.0   \n",
      "             10116            2.0     0.0       1.0        1.0  35.0     0.0   \n",
      "             177312           2.0     1.0       0.0        1.0  34.0     0.0   \n",
      "             154052           2.0     1.0       0.0        1.0  36.0     0.0   \n",
      "\n",
      "                     Stroke  HeartDiseaseorAttack  PhysActivity  Fruits  ...  \\\n",
      "Diabetes_012                                                             ...   \n",
      "0.0          203678     0.0                   0.0           1.0     1.0  ...   \n",
      "             126071     0.0                   0.0           1.0     1.0  ...   \n",
      "             182307     0.0                   0.0           0.0     0.0  ...   \n",
      "             237386     0.0                   0.0           1.0     0.0  ...   \n",
      "             162083     0.0                   0.0           1.0     0.0  ...   \n",
      "...                     ...                   ...           ...     ...  ...   \n",
      "2.0          96067      0.0                   0.0           0.0     1.0  ...   \n",
      "             219000     0.0                   0.0           0.0     1.0  ...   \n",
      "             10116      0.0                   0.0           1.0     1.0  ...   \n",
      "             177312     0.0                   1.0           1.0     1.0  ...   \n",
      "             154052     0.0                   0.0           0.0     1.0  ...   \n",
      "\n",
      "                     AnyHealthcare  NoDocbcCost  GenHlth  MentHlth  PhysHlth  \\\n",
      "Diabetes_012                                                                   \n",
      "0.0          203678            1.0          0.0      2.0       5.0       4.0   \n",
      "             126071            1.0          0.0      1.0       0.0       0.0   \n",
      "             182307            1.0          1.0      5.0      30.0      15.0   \n",
      "             237386            1.0          0.0      3.0       0.0       2.0   \n",
      "             162083            1.0          0.0      1.0       0.0       0.0   \n",
      "...                            ...          ...      ...       ...       ...   \n",
      "2.0          96067             1.0          0.0      1.0       0.0      25.0   \n",
      "             219000            1.0          0.0      4.0      17.0      17.0   \n",
      "             10116             1.0          0.0      3.0      21.0       7.0   \n",
      "             177312            1.0          0.0      1.0       0.0       0.0   \n",
      "             154052            1.0          0.0      4.0       0.0      10.0   \n",
      "\n",
      "                     DiffWalk  Sex   Age  Education  Income  \n",
      "Diabetes_012                                                 \n",
      "0.0          203678       0.0  0.0  10.0        5.0     7.0  \n",
      "             126071       0.0  1.0   5.0        5.0     8.0  \n",
      "             182307       1.0  0.0   3.0        4.0     3.0  \n",
      "             237386       0.0  1.0   8.0        6.0     8.0  \n",
      "             162083       0.0  1.0   5.0        5.0     4.0  \n",
      "...                       ...  ...   ...        ...     ...  \n",
      "2.0          96067        1.0  0.0  13.0        3.0     6.0  \n",
      "             219000       1.0  0.0   8.0        4.0     2.0  \n",
      "             10116        1.0  0.0  10.0        5.0     6.0  \n",
      "             177312       0.0  1.0  10.0        6.0     3.0  \n",
      "             154052       0.0  0.0  10.0        4.0     6.0  \n",
      "\n",
      "[13893 rows x 22 columns]\n"
     ]
    }
   ],
   "source": [
    "print(downsampled_data)"
   ]
  },
  {
   "cell_type": "code",
   "execution_count": 37,
   "metadata": {},
   "outputs": [],
   "source": [
    "downsampled_data = downsampled_data.reset_index(drop=True)"
   ]
  },
  {
   "cell_type": "code",
   "execution_count": 38,
   "metadata": {},
   "outputs": [
    {
     "name": "stdout",
     "output_type": "stream",
     "text": [
      "       Diabetes_012  HighBP  HighChol  CholCheck   BMI  Smoker  Stroke  \\\n",
      "0               0.0     1.0       1.0        1.0  25.0     0.0     0.0   \n",
      "1               0.0     0.0       0.0        1.0  26.0     0.0     0.0   \n",
      "2               0.0     0.0       1.0        1.0  42.0     1.0     0.0   \n",
      "3               0.0     0.0       0.0        1.0  25.0     0.0     0.0   \n",
      "4               0.0     0.0       0.0        1.0  27.0     1.0     0.0   \n",
      "...             ...     ...       ...        ...   ...     ...     ...   \n",
      "13888           2.0     1.0       1.0        1.0  30.0     0.0     0.0   \n",
      "13889           2.0     0.0       1.0        1.0  33.0     1.0     0.0   \n",
      "13890           2.0     0.0       1.0        1.0  35.0     0.0     0.0   \n",
      "13891           2.0     1.0       0.0        1.0  34.0     0.0     0.0   \n",
      "13892           2.0     1.0       0.0        1.0  36.0     0.0     0.0   \n",
      "\n",
      "       HeartDiseaseorAttack  PhysActivity  Fruits  ...  AnyHealthcare  \\\n",
      "0                       0.0           1.0     1.0  ...            1.0   \n",
      "1                       0.0           1.0     1.0  ...            1.0   \n",
      "2                       0.0           0.0     0.0  ...            1.0   \n",
      "3                       0.0           1.0     0.0  ...            1.0   \n",
      "4                       0.0           1.0     0.0  ...            1.0   \n",
      "...                     ...           ...     ...  ...            ...   \n",
      "13888                   0.0           0.0     1.0  ...            1.0   \n",
      "13889                   0.0           0.0     1.0  ...            1.0   \n",
      "13890                   0.0           1.0     1.0  ...            1.0   \n",
      "13891                   1.0           1.0     1.0  ...            1.0   \n",
      "13892                   0.0           0.0     1.0  ...            1.0   \n",
      "\n",
      "       NoDocbcCost  GenHlth  MentHlth  PhysHlth  DiffWalk  Sex   Age  \\\n",
      "0              0.0      2.0       5.0       4.0       0.0  0.0  10.0   \n",
      "1              0.0      1.0       0.0       0.0       0.0  1.0   5.0   \n",
      "2              1.0      5.0      30.0      15.0       1.0  0.0   3.0   \n",
      "3              0.0      3.0       0.0       2.0       0.0  1.0   8.0   \n",
      "4              0.0      1.0       0.0       0.0       0.0  1.0   5.0   \n",
      "...            ...      ...       ...       ...       ...  ...   ...   \n",
      "13888          0.0      1.0       0.0      25.0       1.0  0.0  13.0   \n",
      "13889          0.0      4.0      17.0      17.0       1.0  0.0   8.0   \n",
      "13890          0.0      3.0      21.0       7.0       1.0  0.0  10.0   \n",
      "13891          0.0      1.0       0.0       0.0       0.0  1.0  10.0   \n",
      "13892          0.0      4.0       0.0      10.0       0.0  0.0  10.0   \n",
      "\n",
      "       Education  Income  \n",
      "0            5.0     7.0  \n",
      "1            5.0     8.0  \n",
      "2            4.0     3.0  \n",
      "3            6.0     8.0  \n",
      "4            5.0     4.0  \n",
      "...          ...     ...  \n",
      "13888        3.0     6.0  \n",
      "13889        4.0     2.0  \n",
      "13890        5.0     6.0  \n",
      "13891        6.0     3.0  \n",
      "13892        4.0     6.0  \n",
      "\n",
      "[13893 rows x 22 columns]\n"
     ]
    }
   ],
   "source": [
    "print(downsampled_data)"
   ]
  },
  {
   "cell_type": "code",
   "execution_count": 39,
   "metadata": {},
   "outputs": [
    {
     "name": "stdout",
     "output_type": "stream",
     "text": [
      "Diabetes_012\n",
      "0.0    4631\n",
      "1.0    4631\n",
      "2.0    4631\n",
      "Name: count, dtype: int64\n"
     ]
    }
   ],
   "source": [
    "print(downsampled_data['Diabetes_012'].value_counts())"
   ]
  },
  {
   "cell_type": "markdown",
   "metadata": {},
   "source": [
    "# Classification"
   ]
  },
  {
   "cell_type": "markdown",
   "metadata": {},
   "source": [
    "## Data split"
   ]
  },
  {
   "cell_type": "code",
   "execution_count": 40,
   "metadata": {},
   "outputs": [],
   "source": [
    "X = downsampled_data.iloc[:, 1:]\n",
    "y = downsampled_data.iloc[:, 0]"
   ]
  },
  {
   "cell_type": "code",
   "execution_count": 41,
   "metadata": {},
   "outputs": [
    {
     "name": "stdout",
     "output_type": "stream",
     "text": [
      "       HighBP  HighChol  CholCheck   BMI  Smoker  Stroke  \\\n",
      "0         1.0       1.0        1.0  25.0     0.0     0.0   \n",
      "1         0.0       0.0        1.0  26.0     0.0     0.0   \n",
      "2         0.0       1.0        1.0  42.0     1.0     0.0   \n",
      "3         0.0       0.0        1.0  25.0     0.0     0.0   \n",
      "4         0.0       0.0        1.0  27.0     1.0     0.0   \n",
      "...       ...       ...        ...   ...     ...     ...   \n",
      "13888     1.0       1.0        1.0  30.0     0.0     0.0   \n",
      "13889     0.0       1.0        1.0  33.0     1.0     0.0   \n",
      "13890     0.0       1.0        1.0  35.0     0.0     0.0   \n",
      "13891     1.0       0.0        1.0  34.0     0.0     0.0   \n",
      "13892     1.0       0.0        1.0  36.0     0.0     0.0   \n",
      "\n",
      "       HeartDiseaseorAttack  PhysActivity  Fruits  Veggies  ...  \\\n",
      "0                       0.0           1.0     1.0      1.0  ...   \n",
      "1                       0.0           1.0     1.0      1.0  ...   \n",
      "2                       0.0           0.0     0.0      0.0  ...   \n",
      "3                       0.0           1.0     0.0      1.0  ...   \n",
      "4                       0.0           1.0     0.0      0.0  ...   \n",
      "...                     ...           ...     ...      ...  ...   \n",
      "13888                   0.0           0.0     1.0      0.0  ...   \n",
      "13889                   0.0           0.0     1.0      0.0  ...   \n",
      "13890                   0.0           1.0     1.0      0.0  ...   \n",
      "13891                   1.0           1.0     1.0      0.0  ...   \n",
      "13892                   0.0           0.0     1.0      1.0  ...   \n",
      "\n",
      "       AnyHealthcare  NoDocbcCost  GenHlth  MentHlth  PhysHlth  DiffWalk  Sex  \\\n",
      "0                1.0          0.0      2.0       5.0       4.0       0.0  0.0   \n",
      "1                1.0          0.0      1.0       0.0       0.0       0.0  1.0   \n",
      "2                1.0          1.0      5.0      30.0      15.0       1.0  0.0   \n",
      "3                1.0          0.0      3.0       0.0       2.0       0.0  1.0   \n",
      "4                1.0          0.0      1.0       0.0       0.0       0.0  1.0   \n",
      "...              ...          ...      ...       ...       ...       ...  ...   \n",
      "13888            1.0          0.0      1.0       0.0      25.0       1.0  0.0   \n",
      "13889            1.0          0.0      4.0      17.0      17.0       1.0  0.0   \n",
      "13890            1.0          0.0      3.0      21.0       7.0       1.0  0.0   \n",
      "13891            1.0          0.0      1.0       0.0       0.0       0.0  1.0   \n",
      "13892            1.0          0.0      4.0       0.0      10.0       0.0  0.0   \n",
      "\n",
      "        Age  Education  Income  \n",
      "0      10.0        5.0     7.0  \n",
      "1       5.0        5.0     8.0  \n",
      "2       3.0        4.0     3.0  \n",
      "3       8.0        6.0     8.0  \n",
      "4       5.0        5.0     4.0  \n",
      "...     ...        ...     ...  \n",
      "13888  13.0        3.0     6.0  \n",
      "13889   8.0        4.0     2.0  \n",
      "13890  10.0        5.0     6.0  \n",
      "13891  10.0        6.0     3.0  \n",
      "13892  10.0        4.0     6.0  \n",
      "\n",
      "[13893 rows x 21 columns]\n"
     ]
    }
   ],
   "source": [
    "print(X)"
   ]
  },
  {
   "cell_type": "code",
   "execution_count": 42,
   "metadata": {},
   "outputs": [
    {
     "name": "stdout",
     "output_type": "stream",
     "text": [
      "0        0.0\n",
      "1        0.0\n",
      "2        0.0\n",
      "3        0.0\n",
      "4        0.0\n",
      "        ... \n",
      "13888    2.0\n",
      "13889    2.0\n",
      "13890    2.0\n",
      "13891    2.0\n",
      "13892    2.0\n",
      "Name: Diabetes_012, Length: 13893, dtype: float64\n"
     ]
    }
   ],
   "source": [
    "print(y)"
   ]
  },
  {
   "cell_type": "code",
   "execution_count": 43,
   "metadata": {},
   "outputs": [],
   "source": [
    "from sklearn.model_selection import train_test_split\n",
    "X_train, X_test, y_train, y_test = train_test_split(X, y, test_size = 0.2, random_state = 0)"
   ]
  },
  {
   "cell_type": "code",
   "execution_count": 44,
   "metadata": {},
   "outputs": [
    {
     "name": "stdout",
     "output_type": "stream",
     "text": [
      "       HighBP  HighChol  CholCheck   BMI  Smoker  Stroke  \\\n",
      "5753      1.0       0.0        1.0  30.0     1.0     0.0   \n",
      "9135      1.0       1.0        1.0  62.0     1.0     0.0   \n",
      "9381      0.0       1.0        1.0  29.0     0.0     0.0   \n",
      "12965     0.0       0.0        1.0  35.0     0.0     0.0   \n",
      "6681      1.0       0.0        1.0  32.0     0.0     0.0   \n",
      "...       ...       ...        ...   ...     ...     ...   \n",
      "13123     1.0       0.0        1.0  26.0     0.0     0.0   \n",
      "3264      0.0       1.0        1.0  28.0     1.0     0.0   \n",
      "9845      1.0       1.0        1.0  34.0     0.0     0.0   \n",
      "10799     0.0       1.0        1.0  26.0     0.0     0.0   \n",
      "2732      0.0       0.0        1.0  23.0     1.0     0.0   \n",
      "\n",
      "       HeartDiseaseorAttack  PhysActivity  Fruits  Veggies  ...  \\\n",
      "5753                    0.0           1.0     1.0      1.0  ...   \n",
      "9135                    0.0           0.0     0.0      0.0  ...   \n",
      "9381                    0.0           1.0     1.0      1.0  ...   \n",
      "12965                   1.0           0.0     1.0      0.0  ...   \n",
      "6681                    0.0           0.0     0.0      0.0  ...   \n",
      "...                     ...           ...     ...      ...  ...   \n",
      "13123                   0.0           1.0     1.0      1.0  ...   \n",
      "3264                    0.0           1.0     1.0      1.0  ...   \n",
      "9845                    0.0           1.0     1.0      1.0  ...   \n",
      "10799                   0.0           1.0     0.0      1.0  ...   \n",
      "2732                    0.0           1.0     1.0      1.0  ...   \n",
      "\n",
      "       AnyHealthcare  NoDocbcCost  GenHlth  MentHlth  PhysHlth  DiffWalk  Sex  \\\n",
      "5753             1.0          0.0      3.0       0.0       0.0       0.0  1.0   \n",
      "9135             1.0          0.0      4.0      20.0      15.0       1.0  0.0   \n",
      "9381             0.0          1.0      3.0      15.0       2.0       0.0  0.0   \n",
      "12965            1.0          0.0      2.0       0.0       0.0       0.0  1.0   \n",
      "6681             1.0          0.0      3.0       0.0       0.0       0.0  1.0   \n",
      "...              ...          ...      ...       ...       ...       ...  ...   \n",
      "13123            1.0          0.0      3.0       0.0       0.0       1.0  0.0   \n",
      "3264             1.0          0.0      2.0       0.0       4.0       0.0  0.0   \n",
      "9845             1.0          0.0      3.0       0.0       0.0       0.0  1.0   \n",
      "10799            1.0          0.0      3.0       0.0       0.0       0.0  1.0   \n",
      "2732             1.0          0.0      1.0       0.0       1.0       0.0  0.0   \n",
      "\n",
      "        Age  Education  Income  \n",
      "5753   11.0        6.0     7.0  \n",
      "9135    9.0        5.0     2.0  \n",
      "9381    8.0        5.0     3.0  \n",
      "12965  11.0        5.0     6.0  \n",
      "6681    7.0        5.0     8.0  \n",
      "...     ...        ...     ...  \n",
      "13123  10.0        5.0     3.0  \n",
      "3264   10.0        6.0     4.0  \n",
      "9845    8.0        4.0     8.0  \n",
      "10799   7.0        6.0     8.0  \n",
      "2732   11.0        6.0     8.0  \n",
      "\n",
      "[11114 rows x 21 columns]\n"
     ]
    }
   ],
   "source": [
    "print(X_train)"
   ]
  },
  {
   "cell_type": "code",
   "execution_count": 45,
   "metadata": {},
   "outputs": [
    {
     "name": "stdout",
     "output_type": "stream",
     "text": [
      "5753     1.0\n",
      "9135     1.0\n",
      "9381     2.0\n",
      "12965    2.0\n",
      "6681     1.0\n",
      "        ... \n",
      "13123    2.0\n",
      "3264     0.0\n",
      "9845     2.0\n",
      "10799    2.0\n",
      "2732     0.0\n",
      "Name: Diabetes_012, Length: 11114, dtype: float64\n"
     ]
    }
   ],
   "source": [
    "print(y_train)"
   ]
  },
  {
   "cell_type": "code",
   "execution_count": 46,
   "metadata": {},
   "outputs": [
    {
     "name": "stdout",
     "output_type": "stream",
     "text": [
      "      HighBP  HighChol  CholCheck   BMI  Smoker  Stroke  HeartDiseaseorAttack  \\\n",
      "2818     0.0       0.0        1.0  22.0     1.0     0.0                   0.0   \n",
      "9003     1.0       1.0        1.0  24.0     0.0     0.0                   0.0   \n",
      "6481     1.0       1.0        1.0  26.0     1.0     0.0                   0.0   \n",
      "5193     0.0       1.0        1.0  28.0     0.0     0.0                   0.0   \n",
      "7028     1.0       1.0        1.0  33.0     0.0     1.0                   1.0   \n",
      "...      ...       ...        ...   ...     ...     ...                   ...   \n",
      "8133     1.0       1.0        1.0  29.0     0.0     0.0                   0.0   \n",
      "6978     0.0       1.0        1.0  37.0     0.0     0.0                   0.0   \n",
      "8783     1.0       1.0        1.0  43.0     1.0     0.0                   0.0   \n",
      "6789     1.0       1.0        1.0  29.0     0.0     0.0                   0.0   \n",
      "6878     1.0       1.0        1.0  35.0     1.0     0.0                   0.0   \n",
      "\n",
      "      PhysActivity  Fruits  Veggies  ...  AnyHealthcare  NoDocbcCost  GenHlth  \\\n",
      "2818           0.0     1.0      0.0  ...            1.0          0.0      3.0   \n",
      "9003           1.0     0.0      0.0  ...            1.0          0.0      3.0   \n",
      "6481           1.0     1.0      1.0  ...            1.0          0.0      2.0   \n",
      "5193           1.0     0.0      1.0  ...            1.0          1.0      3.0   \n",
      "7028           0.0     1.0      0.0  ...            1.0          1.0      4.0   \n",
      "...            ...     ...      ...  ...            ...          ...      ...   \n",
      "8133           1.0     1.0      1.0  ...            1.0          0.0      3.0   \n",
      "6978           1.0     1.0      1.0  ...            1.0          0.0      1.0   \n",
      "8783           1.0     0.0      1.0  ...            1.0          0.0      3.0   \n",
      "6789           0.0     0.0      0.0  ...            1.0          0.0      3.0   \n",
      "6878           0.0     1.0      0.0  ...            1.0          0.0      3.0   \n",
      "\n",
      "      MentHlth  PhysHlth  DiffWalk  Sex   Age  Education  Income  \n",
      "2818       0.0       0.0       0.0  0.0   4.0        6.0     5.0  \n",
      "9003       0.0       3.0       1.0  0.0  13.0        5.0     3.0  \n",
      "6481       0.0       0.0       0.0  0.0  13.0        4.0     4.0  \n",
      "5193      30.0      30.0       0.0  0.0   8.0        5.0     7.0  \n",
      "7028       5.0      30.0       1.0  0.0  10.0        4.0     2.0  \n",
      "...        ...       ...       ...  ...   ...        ...     ...  \n",
      "8133       0.0       0.0       0.0  0.0   6.0        6.0     6.0  \n",
      "6978       3.0       4.0       0.0  0.0  10.0        5.0     2.0  \n",
      "8783       0.0      25.0       1.0  0.0   8.0        4.0     7.0  \n",
      "6789       0.0       0.0       0.0  1.0  11.0        5.0     5.0  \n",
      "6878       0.0       0.0       0.0  1.0  10.0        4.0     3.0  \n",
      "\n",
      "[2779 rows x 21 columns]\n"
     ]
    }
   ],
   "source": [
    "print(X_test)"
   ]
  },
  {
   "cell_type": "code",
   "execution_count": 47,
   "metadata": {},
   "outputs": [
    {
     "name": "stdout",
     "output_type": "stream",
     "text": [
      "2818    0.0\n",
      "9003    1.0\n",
      "6481    1.0\n",
      "5193    1.0\n",
      "7028    1.0\n",
      "       ... \n",
      "8133    1.0\n",
      "6978    1.0\n",
      "8783    1.0\n",
      "6789    1.0\n",
      "6878    1.0\n",
      "Name: Diabetes_012, Length: 2779, dtype: float64\n"
     ]
    }
   ],
   "source": [
    "print(y_test)"
   ]
  },
  {
   "cell_type": "markdown",
   "metadata": {},
   "source": [
    "# Artificial Neural Network"
   ]
  },
  {
   "cell_type": "code",
   "execution_count": 48,
   "metadata": {},
   "outputs": [],
   "source": [
    "ann = tf.keras.models.Sequential()\n",
    "ann.add(tf.keras.layers.Dense(units=22, activation='relu'))\n",
    "ann.add(tf.keras.layers.Dense(units=22, activation='relu'))\n",
    "ann.add(tf.keras.layers.Dense(units=1, activation='sigmoid'))"
   ]
  },
  {
   "cell_type": "code",
   "execution_count": 49,
   "metadata": {},
   "outputs": [
    {
     "name": "stdout",
     "output_type": "stream",
     "text": [
      "Epoch 1/10\n",
      "11114/11114 [==============================] - 11s 940us/step - loss: -452.7638 - accuracy: 0.3379\n",
      "Epoch 2/10\n",
      "11114/11114 [==============================] - 10s 898us/step - loss: -6176.2441 - accuracy: 0.3434\n",
      "Epoch 3/10\n",
      "11114/11114 [==============================] - 10s 890us/step - loss: -24563.5820 - accuracy: 0.3483\n",
      "Epoch 4/10\n",
      "11114/11114 [==============================] - 10s 899us/step - loss: -62817.0352 - accuracy: 0.3453\n",
      "Epoch 5/10\n",
      "11114/11114 [==============================] - 10s 910us/step - loss: -127609.6328 - accuracy: 0.3499\n",
      "Epoch 6/10\n",
      "11114/11114 [==============================] - 10s 896us/step - loss: -225075.4531 - accuracy: 0.3425\n",
      "Epoch 7/10\n",
      "11114/11114 [==============================] - 10s 901us/step - loss: -362822.6562 - accuracy: 0.3454\n",
      "Epoch 8/10\n",
      "11114/11114 [==============================] - 10s 898us/step - loss: -547858.1250 - accuracy: 0.3465\n",
      "Epoch 9/10\n",
      "11114/11114 [==============================] - 10s 897us/step - loss: -785045.1875 - accuracy: 0.3461\n",
      "Epoch 10/10\n",
      "11114/11114 [==============================] - 10s 894us/step - loss: -1082487.6250 - accuracy: 0.3465\n"
     ]
    },
    {
     "data": {
      "text/plain": [
       "<keras.callbacks.History at 0x1cf7bc3d6f0>"
      ]
     },
     "execution_count": 49,
     "metadata": {},
     "output_type": "execute_result"
    }
   ],
   "source": [
    "ann.compile(optimizer = 'adam', loss = 'binary_crossentropy', metrics = ['accuracy'])\n",
    "ann.fit(X_train, y_train, batch_size = 1, epochs = 10)"
   ]
  },
  {
   "cell_type": "markdown",
   "metadata": {},
   "source": [
    "# Predict test result"
   ]
  },
  {
   "cell_type": "code",
   "execution_count": 50,
   "metadata": {},
   "outputs": [
    {
     "name": "stdout",
     "output_type": "stream",
     "text": [
      "87/87 [==============================] - 0s 553us/step\n",
      "[0. 1.]\n"
     ]
    }
   ],
   "source": [
    "y_pred = ann.predict(X_test)\n",
    "print(np.unique(y_pred))"
   ]
  },
  {
   "cell_type": "markdown",
   "metadata": {},
   "source": [
    "# Confusion matrix"
   ]
  },
  {
   "cell_type": "code",
   "execution_count": 51,
   "metadata": {},
   "outputs": [
    {
     "name": "stdout",
     "output_type": "stream",
     "text": [
      "[[ 28 856   0]\n",
      " [  3 922   0]\n",
      " [  2 968   0]]\n",
      "Accuracy is 0.3418495861820799\n"
     ]
    }
   ],
   "source": [
    "from sklearn.metrics import confusion_matrix, accuracy_score\n",
    "cm = confusion_matrix(y_test, y_pred)\n",
    "print(cm)\n",
    "original_accuracy = accuracy_score(y_test, y_pred)\n",
    "print('Accuracy is', original_accuracy)"
   ]
  },
  {
   "cell_type": "markdown",
   "metadata": {},
   "source": [
    "# Data visualisation"
   ]
  },
  {
   "cell_type": "code",
   "execution_count": 52,
   "metadata": {},
   "outputs": [
    {
     "data": {
      "text/plain": [
       "Text(0.5, 1.0, 'Confusion Matrix')"
      ]
     },
     "execution_count": 52,
     "metadata": {},
     "output_type": "execute_result"
    },
    {
     "data": {
      "image/png": "[encoded data removed]",
      "text/plain": [
       "<Figure size 432x288 with 1 Axes>"
      ]
     },
     "metadata": {
      "needs_background": "light"
     },
     "output_type": "display_data"
    }
   ],
   "source": [
    "custom_labels = ['No diabetes', 'Prediabetes', 'Diabetes']\n",
    "import seaborn as sns\n",
    "sns.heatmap(cm, annot=True, fmt=\"d\", cmap=\"Blues\", cbar=False, xticklabels=custom_labels, yticklabels=custom_labels)\n",
    "plt.xlabel(\"Predicted\")\n",
    "plt.ylabel(\"True\")\n",
    "plt.title(\"Confusion Matrix\")"
   ]
  },
  {
   "cell_type": "markdown",
   "metadata": {},
   "source": [
    "# Feature ranking"
   ]
  },
  {
   "cell_type": "code",
   "execution_count": 53,
   "metadata": {},
   "outputs": [],
   "source": [
    "weights = ann.layers[0].get_weights()[0]  # Assuming the first layer is the input layer\n",
    "feature_importance = np.abs(weights).mean(axis=0)"
   ]
  },
  {
   "cell_type": "code",
   "execution_count": 54,
   "metadata": {},
   "outputs": [
    {
     "name": "stdout",
     "output_type": "stream",
     "text": [
      "[ 9.596754    9.438613    9.404602    0.17819141  6.395672    7.1696305\n",
      "  0.20622826  6.828397    0.20119585  9.530844    7.1642847   9.434302\n",
      "  7.061831    9.46121     9.177884    7.039409    0.14880893  9.200754\n",
      "  9.446773    9.437159    0.23445377 11.432978  ]\n"
     ]
    }
   ],
   "source": [
    "print(feature_importance)"
   ]
  },
  {
   "cell_type": "code",
   "execution_count": 55,
   "metadata": {},
   "outputs": [
    {
     "name": "stdout",
     "output_type": "stream",
     "text": [
      "HighBP: 9.59675407409668\n",
      "HighChol: 9.438612937927246\n",
      "CholCheck: 9.40460205078125\n",
      "BMI: 0.1781914085149765\n",
      "Smoker: 6.395671844482422\n",
      "Stroke: 7.169630527496338\n",
      "HeartDiseaseorAttack: 0.20622825622558594\n",
      "PhysActivity: 6.828396797180176\n",
      "Fruits: 0.2011958509683609\n",
      "Veggies: 9.530843734741211\n",
      "HvyAlcoholConsump: 7.164284706115723\n",
      "AnyHealthcare: 9.43430233001709\n",
      "NoDocbcCost: 7.061830997467041\n",
      "GenHlth: 9.461210250854492\n",
      "MentHlth: 9.177884101867676\n",
      "PhysHlth: 7.039409160614014\n",
      "DiffWalk: 0.14880892634391785\n",
      "Sex: 9.200754165649414\n",
      "Age: 9.446772575378418\n",
      "Education: 9.437158584594727\n",
      "Income: 0.23445376753807068\n"
     ]
    }
   ],
   "source": [
    "feature_names = X_train.columns\n",
    "feature_importance_dict = dict(zip(feature_names, feature_importance))\n",
    "for feature, importance in feature_importance_dict.items():\n",
    "    print(f\"{feature}: {importance}\")"
   ]
  },
  {
   "cell_type": "code",
   "execution_count": 56,
   "metadata": {},
   "outputs": [
    {
     "data": {
      "image/png": "[encoded data removed]",
      "text/plain": [
       "<Figure size 720x432 with 1 Axes>"
      ]
     },
     "metadata": {
      "needs_background": "light"
     },
     "output_type": "display_data"
    }
   ],
   "source": [
    "import matplotlib.pyplot as plt\n",
    "\n",
    "# Assuming you have already computed the feature_importance_dict\n",
    "\n",
    "# Convert the dictionary to a DataFrame for easier plotting\n",
    "feature_importance_df = pd.DataFrame(list(feature_importance_dict.items()), columns=['Feature', 'Importance'])\n",
    "\n",
    "# Sort the DataFrame by importance\n",
    "feature_importance_df = feature_importance_df.sort_values(by='Importance', ascending=False)\n",
    "\n",
    "# Plot the feature importance\n",
    "plt.figure(figsize=(10, 6))\n",
    "plt.bar(feature_importance_df['Feature'], feature_importance_df['Importance'])\n",
    "plt.xlabel('Feature')\n",
    "plt.ylabel('Importance Score')\n",
    "plt.title('Feature Importance')\n",
    "plt.xticks(rotation=45, ha='right')\n",
    "plt.tight_layout()\n",
    "plt.show()"
   ]
  }
 ],
 "metadata": {
  "kernelspec": {
   "display_name": "Python 3",
   "language": "python",
   "name": "python3"
  },
  "language_info": {
   "codemirror_mode": {
    "name": "ipython",
    "version": 3
   },
   "file_extension": ".py",
   "mimetype": "text/x-python",
   "name": "python",
   "nbconvert_exporter": "python",
   "pygments_lexer": "ipython3",
   "version": "3.10.11"
  }
 },
 "nbformat": 4,
 "nbformat_minor": 2
}
